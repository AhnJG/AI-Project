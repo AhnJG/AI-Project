{
 "cells": [
  {
   "cell_type": "code",
   "execution_count": 1,
   "metadata": {},
   "outputs": [],
   "source": [
    "import numpy as np\n",
    "import cv2"
   ]
  },
  {
   "cell_type": "code",
   "execution_count": 2,
   "metadata": {},
   "outputs": [],
   "source": [
    "# model = 'res10_300x300_ssd_iter_140000_fp16.caffemodel'\n",
    "# config = 'deploy.prototxt'\n",
    "model = 'opencv_face_detector_uint8.pb'\n",
    "config = 'opencv_face_detector.pbtxt'"
   ]
  },
  {
   "cell_type": "code",
   "execution_count": 3,
   "metadata": {},
   "outputs": [],
   "source": [
    "# On Notebook Camera\n",
    "# cap = cv2.VideoCapture(0)\n",
    "\n",
    "# if not cap.isOpened():\n",
    "#     print('Camera open failed!')\n",
    "#     exit()\n",
    "    \n",
    "# _, frame = cap.read()"
   ]
  },
  {
   "cell_type": "code",
   "execution_count": null,
   "metadata": {},
   "outputs": [
    {
     "name": "stdout",
     "output_type": "stream",
     "text": [
      "detect.shape[0] :  200\n"
     ]
    }
   ],
   "source": [
    "net = cv2.dnn.readNet(model, config)\n",
    "\n",
    "if net.empty():\n",
    "    print('Net open failed!')\n",
    "    exit()\n",
    "\n",
    "frame = cv2.imread('../images/google_0010.jpg', cv2.IMREAD_ANYCOLOR)\n",
    "\n",
    "# cv2.imshow('test', frame)\n",
    "\n",
    "blob = cv2.dnn.blobFromImage(frame, 1, (300, 300), (104, 177, 123))\n",
    "net.setInput(blob)\n",
    "detect = net.forward()\n",
    "\n",
    "(h, w) = frame.shape[:2]\n",
    "detect = detect[0, 0, :, :]\n",
    "\n",
    "print('detect.shape[0] : ', detect.shape[0])\n",
    "for i in range(detect.shape[0]):\n",
    "    confidence = detect[i, 2]\n",
    "    if confidence < 0.5:\n",
    "        break\n",
    "\n",
    "    x1 = int(detect[i, 3] * w)\n",
    "    y1 = int(detect[i, 4] * h)\n",
    "    x2 = int(detect[i, 5] * w)\n",
    "    y2 = int(detect[i, 6] * h)\n",
    "\n",
    "    cv2.rectangle(frame, (x1, y1), (x2, y2), (0, 255, 0))\n",
    "\n",
    "    label = 'Face: %4.3f' % confidence\n",
    "    cv2.putText(frame, label, (x1, y1 - 1), cv2.FONT_HERSHEY_SIMPLEX, 0.8, (0, 255, 0), 1, cv2.LINE_AA)\n",
    "\n",
    "cv2.imshow('frame', frame)\n",
    "cv2.waitKey(0)\n",
    "cv2.destroyAllWindows()\n",
    "cv2.waitKey(1)\n"
   ]
  },
  {
   "cell_type": "code",
   "execution_count": null,
   "metadata": {},
   "outputs": [],
   "source": []
  },
  {
   "cell_type": "code",
   "execution_count": null,
   "metadata": {},
   "outputs": [],
   "source": []
  },
  {
   "cell_type": "code",
   "execution_count": null,
   "metadata": {},
   "outputs": [],
   "source": []
  }
 ],
 "metadata": {
  "kernelspec": {
   "display_name": "Python 3",
   "language": "python",
   "name": "python3"
  },
  "language_info": {
   "codemirror_mode": {
    "name": "ipython",
    "version": 3
   },
   "file_extension": ".py",
   "mimetype": "text/x-python",
   "name": "python",
   "nbconvert_exporter": "python",
   "pygments_lexer": "ipython3",
   "version": "3.5.6"
  }
 },
 "nbformat": 4,
 "nbformat_minor": 2
}
