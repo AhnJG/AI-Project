{
 "cells": [
  {
   "cell_type": "code",
   "execution_count": 3,
   "metadata": {},
   "outputs": [
    {
     "name": "stdout",
     "output_type": "stream",
     "text": [
      "python: 3.5.6 |Anaconda, Inc.| (default, Aug 26 2018, 16:30:03) \n",
      "[GCC 4.2.1 Compatible Clang 4.0.1 (tags/RELEASE_401/final)]\n",
      "opencv: 3.1.0\n",
      "pytesseract: pytesseract version 0.1.6\n"
     ]
    }
   ],
   "source": [
    "# OpenCV 및 OCR모듈 설치 유무 확인\n",
    "\n",
    "import sys\n",
    "import cv2\n",
    "import pytesseract\n",
    "from PIL import Image\n",
    "\n",
    "# 윈도우에서 주석해제 (tesseract_path: tesseract설치경로 확인 후 붙여넣기)\n",
    "# tesseract_path = 'C:/Program Files (x86)/Tesseract-OCR'\n",
    "# pytesseract.pytesseract.tesseract_cmd = tesseract_path + '/tesseract'\n",
    "\n",
    "print(\"python:\", sys.version)\n",
    "print(\"opencv:\", cv2.__version__)\n",
    "print(\"pytesseract:\", pytesseract.image_to_string(Image.open('images/test.png')))"
   ]
  },
  {
   "cell_type": "code",
   "execution_count": null,
   "metadata": {},
   "outputs": [],
   "source": []
  },
  {
   "cell_type": "code",
   "execution_count": null,
   "metadata": {},
   "outputs": [],
   "source": []
  },
  {
   "cell_type": "code",
   "execution_count": null,
   "metadata": {},
   "outputs": [],
   "source": []
  }
 ],
 "metadata": {
  "anaconda-cloud": {},
  "kernelspec": {
   "display_name": "Python 3",
   "language": "python",
   "name": "python3"
  },
  "language_info": {
   "codemirror_mode": {
    "name": "ipython",
    "version": 3
   },
   "file_extension": ".py",
   "mimetype": "text/x-python",
   "name": "python",
   "nbconvert_exporter": "python",
   "pygments_lexer": "ipython3",
   "version": "3.5.6"
  }
 },
 "nbformat": 4,
 "nbformat_minor": 1
}
