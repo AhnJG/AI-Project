{
 "cells": [
  {
   "cell_type": "code",
   "execution_count": 2,
   "metadata": {},
   "outputs": [],
   "source": [
    "# 이미지 특성매치 http://blog.naver.com/samsjang/220657424078\n",
    "# Feature Matching https://opencv-python-tutroals.readthedocs.io/en/latest/py_tutorials/py_feature2d/py_matcher/py_matcher.html\n",
    "# error: (-215) !outImage.empty() in function drawKeypoints -> 이미지 경로 확인\n",
    "\n",
    "import numpy\n",
    "import cv2 as cv"
   ]
  },
  {
   "cell_type": "code",
   "execution_count": null,
   "metadata": {},
   "outputs": [],
   "source": [
    "def featureMatching():\n",
    "    img1 = cv.imread('image/img0.png', cv.IMREAD_GRAYSCALE)\n",
    "    img2 = cv.imread('image/img6.png', cv.IMREAD_GRAYSCALE)\n",
    "    res = None\n",
    "    \n",
    "    orb = cv.ORB_create()\n",
    "    kp1, des1 = orb.detectAndCompute(img1,None)        \n",
    "    kp2, des2 = orb.detectAndCompute(img2,None)\n",
    "    \n",
    "    bf = cv.BFMatcher(cv.NORM_HAMMING, crossCheck=True)\n",
    "    matches = bf.match(des1, des2)\n",
    "    \n",
    "    matches = sorted(matches, key=lambda x:x.distance)\n",
    "    res = cv.drawMatches(img1, kp1, img2, kp2, matches[:10], res, flags=0)\n",
    "    \n",
    "    cv.imshow('Feature Matching', res)\n",
    "    cv.waitKey(0)\n",
    "    cv.destroyAllWindows()\n",
    "    cv.waitKey(1)\n",
    "    \n",
    "featureMatching()    \n",
    "\n",
    "    "
   ]
  },
  {
   "cell_type": "code",
   "execution_count": null,
   "metadata": {},
   "outputs": [],
   "source": []
  }
 ],
 "metadata": {
  "kernelspec": {
   "display_name": "Python 3",
   "language": "python",
   "name": "python3"
  },
  "language_info": {
   "codemirror_mode": {
    "name": "ipython",
    "version": 3
   },
   "file_extension": ".py",
   "mimetype": "text/x-python",
   "name": "python",
   "nbconvert_exporter": "python",
   "pygments_lexer": "ipython3",
   "version": "3.5.6"
  }
 },
 "nbformat": 4,
 "nbformat_minor": 2
}
