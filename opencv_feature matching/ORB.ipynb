{
 "cells": [
  {
   "cell_type": "code",
   "execution_count": 2,
   "metadata": {},
   "outputs": [],
   "source": [
    "# 이미지 특성매치 http://blog.naver.com/samsjang/220657424078\n",
    "# Feature Matching https://opencv-python-tutroals.readthedocs.io/en/latest/py_tutorials/py_feature2d/py_matcher/py_matcher.html\n",
    "# error: (-215) !outImage.empty() in function drawKeypoints -> 이미지 경로 확인\n",
    "\n",
    "import numpy\n",
    "import cv2"
   ]
  },
  {
   "cell_type": "code",
   "execution_count": null,
   "metadata": {},
   "outputs": [],
   "source": [
    "def featureMatching(img_url1, img_url2):\n",
    "    img1 = cv2.imread(img_url1, cv2.IMREAD_GRAYSCALE)\n",
    "    img2 = cv2.imread(img_url2, cv2.IMREAD_GRAYSCALE)\n",
    "    res = None\n",
    "    \n",
    "    orb = cv2.ORB_create()\n",
    "    kp1, des1 = orb.detectAndCompute(img1,None)\n",
    "    kp2, des2 = orb.detectAndCompute(img2,None)\n",
    "    \n",
    "    bf = cv2.BFMatcher(cv.NORM_HAMMING, crossCheck=True)\n",
    "    matches = bf.match(des1, des2)\n",
    "    \n",
    "    matches = sorted(matches, key=lambda x:x.distance)\n",
    "    res = cv2.drawMatches(img1, kp1, img2, kp2, matches[:10], res, flags=0)\n",
    "    \n",
    "    cv2.imshow('Feature Matching', res)\n",
    "    cv2.waitKey(0)\n",
    "    cv2.destroyAllWindows()\n",
    "    cv2.waitKey(1)\n",
    "    \n",
    "# featureMatching()    \n",
    "\n",
    "    "
   ]
  },
  {
   "cell_type": "code",
   "execution_count": null,
   "metadata": {},
   "outputs": [],
   "source": [
    "img_url1 = 'image/img0.png'\n",
    "img_url2 = 'image/img8.png'\n",
    "featureMatching(img_url1, img_url2)"
   ]
  }
 ],
 "metadata": {
  "kernelspec": {
   "display_name": "Python 3",
   "language": "python",
   "name": "python3"
  },
  "language_info": {
   "codemirror_mode": {
    "name": "ipython",
    "version": 3
   },
   "file_extension": ".py",
   "mimetype": "text/x-python",
   "name": "python",
   "nbconvert_exporter": "python",
   "pygments_lexer": "ipython3",
   "version": "3.5.6"
  }
 },
 "nbformat": 4,
 "nbformat_minor": 2
}
