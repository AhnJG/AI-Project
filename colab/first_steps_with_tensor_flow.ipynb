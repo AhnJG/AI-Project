{
  "nbformat": 4,
  "nbformat_minor": 0,
  "metadata": {
    "colab": {
      "name": "first_steps_with_tensor_flow.ipynb",
      "provenance": [],
      "authorship_tag": "ABX9TyN+dTXhLoysLGrtRkVKCQel",
      "include_colab_link": true
    },
    "kernelspec": {
      "name": "python3",
      "display_name": "Python 3"
    }
  },
  "cells": [
    {
      "cell_type": "markdown",
      "metadata": {
        "id": "view-in-github",
        "colab_type": "text"
      },
      "source": [
        "<a href=\"https://colab.research.google.com/github/AhnJG/AI-Project/blob/master/colab/first_steps_with_tensor_flow.ipynb\" target=\"_parent\"><img src=\"https://colab.research.google.com/assets/colab-badge.svg\" alt=\"Open In Colab\"/></a>"
      ]
    },
    {
      "cell_type": "markdown",
      "metadata": {
        "id": "Bd2Zkk1LE2Zr",
        "colab_type": "text"
      },
      "source": [
        " **학습 목표:**\n",
        "  * 텐서플로우의 기초 개념을 학습한다\n",
        "  * 텐서플로우의 `LinearRegressor` 클래스를 사용하여 입력 특성 하나를 기반으로 지역별 주택 가격 중앙값을 예측한다\n",
        "  * 평균 제곱근 오차(RMSE)를 사용하여 모델 예측의 정확성을 평가한다\n",
        "  * 초매개변수를 조정하여 모델의 정확성을 개선한다"
      ]
    },
    {
      "cell_type": "markdown",
      "metadata": {
        "id": "MxiIKhP4E2Zr",
        "colab_type": "text"
      },
      "source": [
        " 데이터의 출처는 1990년 캘리포니아 인구조사 자료입니다."
      ]
    },
    {
      "cell_type": "code",
      "metadata": {
        "id": "mi8wE9ijq-xd",
        "colab_type": "code",
        "colab": {}
      },
      "source": [
        "import math\n",
        "\n",
        "from IPython import display\n",
        "from matplotlib import cm\n",
        "from matplotlib import gridspec\n",
        "from matplotlib import pyplot as plt\n",
        "import numpy as np\n",
        "import pandas as pd\n",
        "from sklearn import metrics\n",
        "%tensorflow_version 1.x\n",
        "import tensorflow as tf\n",
        "from tensorflow.python.data import Dataset\n",
        "\n",
        "tf.logging.set_verbosity(tf.logging.ERROR)\n",
        "pd.options.display.max_rows = 10\n",
        "pd.options.display.float_format = '{:.1f}'.format"
      ],
      "execution_count": 0,
      "outputs": []
    },
    {
      "cell_type": "code",
      "metadata": {
        "id": "ABg00zsCsvoZ",
        "colab_type": "code",
        "colab": {}
      },
      "source": [
        "# 다음으로는 데이터 세트를 로드합니다.\n",
        "california_housing_dataframe = pd.read_csv(\"https://download.mlcc.google.com/mledu-datasets/california_housing_train.csv\", sep=\",\")"
      ],
      "execution_count": 0,
      "outputs": []
    },
    {
      "cell_type": "code",
      "metadata": {
        "id": "KHrXd_CfuC9b",
        "colab_type": "code",
        "colab": {
          "base_uri": "https://localhost:8080/",
          "height": 419
        },
        "outputId": "5e59e5f1-5eb9-42a8-a0bc-ac564e347372"
      },
      "source": [
        "#확률적 경사하강법의 성능에 악영향을 줄 수 있는 의도치 않은 정렬 효과를 방지하고자 데이터를 무작위로 추출\n",
        "#일반적으로 사용하는 학습률 범위에서 보다 쉽게 학습할 수 있도록 median_house_value를 천 단위로 조정\n",
        "\n",
        "california_housing_dataframe = california_housing_dataframe.reindex(\n",
        "    np.random.permutation(california_housing_dataframe.index)\n",
        ")\n",
        "california_housing_dataframe[\"median_house_value\"] /= 1000.0\n",
        "california_housing_dataframe"
      ],
      "execution_count": 5,
      "outputs": [
        {
          "output_type": "execute_result",
          "data": {
            "text/html": [
              "<div>\n",
              "<style scoped>\n",
              "    .dataframe tbody tr th:only-of-type {\n",
              "        vertical-align: middle;\n",
              "    }\n",
              "\n",
              "    .dataframe tbody tr th {\n",
              "        vertical-align: top;\n",
              "    }\n",
              "\n",
              "    .dataframe thead th {\n",
              "        text-align: right;\n",
              "    }\n",
              "</style>\n",
              "<table border=\"1\" class=\"dataframe\">\n",
              "  <thead>\n",
              "    <tr style=\"text-align: right;\">\n",
              "      <th></th>\n",
              "      <th>longitude</th>\n",
              "      <th>latitude</th>\n",
              "      <th>housing_median_age</th>\n",
              "      <th>total_rooms</th>\n",
              "      <th>total_bedrooms</th>\n",
              "      <th>population</th>\n",
              "      <th>households</th>\n",
              "      <th>median_income</th>\n",
              "      <th>median_house_value</th>\n",
              "    </tr>\n",
              "  </thead>\n",
              "  <tbody>\n",
              "    <tr>\n",
              "      <th>15633</th>\n",
              "      <td>-122.4</td>\n",
              "      <td>37.9</td>\n",
              "      <td>41.0</td>\n",
              "      <td>2591.0</td>\n",
              "      <td>585.0</td>\n",
              "      <td>1638.0</td>\n",
              "      <td>462.0</td>\n",
              "      <td>1.8</td>\n",
              "      <td>79.7</td>\n",
              "    </tr>\n",
              "    <tr>\n",
              "      <th>3926</th>\n",
              "      <td>-118.0</td>\n",
              "      <td>34.0</td>\n",
              "      <td>36.0</td>\n",
              "      <td>1475.0</td>\n",
              "      <td>270.0</td>\n",
              "      <td>1149.0</td>\n",
              "      <td>284.0</td>\n",
              "      <td>3.1</td>\n",
              "      <td>158.6</td>\n",
              "    </tr>\n",
              "    <tr>\n",
              "      <th>730</th>\n",
              "      <td>-117.0</td>\n",
              "      <td>32.6</td>\n",
              "      <td>34.0</td>\n",
              "      <td>3928.0</td>\n",
              "      <td>686.0</td>\n",
              "      <td>2315.0</td>\n",
              "      <td>681.0</td>\n",
              "      <td>4.3</td>\n",
              "      <td>144.5</td>\n",
              "    </tr>\n",
              "    <tr>\n",
              "      <th>5438</th>\n",
              "      <td>-118.2</td>\n",
              "      <td>34.1</td>\n",
              "      <td>27.0</td>\n",
              "      <td>1551.0</td>\n",
              "      <td>254.0</td>\n",
              "      <td>816.0</td>\n",
              "      <td>233.0</td>\n",
              "      <td>8.2</td>\n",
              "      <td>500.0</td>\n",
              "    </tr>\n",
              "    <tr>\n",
              "      <th>13138</th>\n",
              "      <td>-121.9</td>\n",
              "      <td>39.7</td>\n",
              "      <td>26.0</td>\n",
              "      <td>2741.0</td>\n",
              "      <td>451.0</td>\n",
              "      <td>1217.0</td>\n",
              "      <td>437.0</td>\n",
              "      <td>3.7</td>\n",
              "      <td>139.2</td>\n",
              "    </tr>\n",
              "    <tr>\n",
              "      <th>...</th>\n",
              "      <td>...</td>\n",
              "      <td>...</td>\n",
              "      <td>...</td>\n",
              "      <td>...</td>\n",
              "      <td>...</td>\n",
              "      <td>...</td>\n",
              "      <td>...</td>\n",
              "      <td>...</td>\n",
              "      <td>...</td>\n",
              "    </tr>\n",
              "    <tr>\n",
              "      <th>12893</th>\n",
              "      <td>-121.8</td>\n",
              "      <td>38.0</td>\n",
              "      <td>23.0</td>\n",
              "      <td>1150.0</td>\n",
              "      <td>174.0</td>\n",
              "      <td>572.0</td>\n",
              "      <td>174.0</td>\n",
              "      <td>4.9</td>\n",
              "      <td>152.4</td>\n",
              "    </tr>\n",
              "    <tr>\n",
              "      <th>14653</th>\n",
              "      <td>-122.2</td>\n",
              "      <td>39.7</td>\n",
              "      <td>23.0</td>\n",
              "      <td>1658.0</td>\n",
              "      <td>307.0</td>\n",
              "      <td>836.0</td>\n",
              "      <td>297.0</td>\n",
              "      <td>3.4</td>\n",
              "      <td>85.4</td>\n",
              "    </tr>\n",
              "    <tr>\n",
              "      <th>12546</th>\n",
              "      <td>-121.7</td>\n",
              "      <td>37.1</td>\n",
              "      <td>14.0</td>\n",
              "      <td>6006.0</td>\n",
              "      <td>914.0</td>\n",
              "      <td>2915.0</td>\n",
              "      <td>898.0</td>\n",
              "      <td>5.9</td>\n",
              "      <td>321.7</td>\n",
              "    </tr>\n",
              "    <tr>\n",
              "      <th>954</th>\n",
              "      <td>-117.1</td>\n",
              "      <td>32.8</td>\n",
              "      <td>44.0</td>\n",
              "      <td>1139.0</td>\n",
              "      <td>214.0</td>\n",
              "      <td>470.0</td>\n",
              "      <td>217.0</td>\n",
              "      <td>3.5</td>\n",
              "      <td>203.1</td>\n",
              "    </tr>\n",
              "    <tr>\n",
              "      <th>7802</th>\n",
              "      <td>-118.4</td>\n",
              "      <td>34.1</td>\n",
              "      <td>45.0</td>\n",
              "      <td>3143.0</td>\n",
              "      <td>553.0</td>\n",
              "      <td>1153.0</td>\n",
              "      <td>564.0</td>\n",
              "      <td>5.8</td>\n",
              "      <td>500.0</td>\n",
              "    </tr>\n",
              "  </tbody>\n",
              "</table>\n",
              "<p>17000 rows × 9 columns</p>\n",
              "</div>"
            ],
            "text/plain": [
              "       longitude  latitude  ...  median_income  median_house_value\n",
              "15633     -122.4      37.9  ...            1.8                79.7\n",
              "3926      -118.0      34.0  ...            3.1               158.6\n",
              "730       -117.0      32.6  ...            4.3               144.5\n",
              "5438      -118.2      34.1  ...            8.2               500.0\n",
              "13138     -121.9      39.7  ...            3.7               139.2\n",
              "...          ...       ...  ...            ...                 ...\n",
              "12893     -121.8      38.0  ...            4.9               152.4\n",
              "14653     -122.2      39.7  ...            3.4                85.4\n",
              "12546     -121.7      37.1  ...            5.9               321.7\n",
              "954       -117.1      32.8  ...            3.5               203.1\n",
              "7802      -118.4      34.1  ...            5.8               500.0\n",
              "\n",
              "[17000 rows x 9 columns]"
            ]
          },
          "metadata": {
            "tags": []
          },
          "execution_count": 5
        }
      ]
    },
    {
      "cell_type": "markdown",
      "metadata": {
        "id": "HzzlSs3PtTmt",
        "colab_type": "text"
      },
      "source": [
        " ## 데이터 조사\n",
        "\n",
        "데이터를 본격적으로 다루기 전에 잠시 살펴보는 것이 좋습니다.\n",
        "\n",
        "각 열에 대해 예의 개수, 평균, 표준편차, 최대값, 최소값, 다양한 분위 등 몇 가지 유용한 통계를 간단히 요약하여 출력해 보겠습니다."
      ]
    },
    {
      "cell_type": "code",
      "metadata": {
        "id": "xhsD0S4JuGqD",
        "colab_type": "code",
        "colab": {
          "base_uri": "https://localhost:8080/",
          "height": 297
        },
        "outputId": "a2b1bf55-348f-4d64-b5f7-4ff9d17732fd"
      },
      "source": [
        "california_housing_dataframe.describe()"
      ],
      "execution_count": 6,
      "outputs": [
        {
          "output_type": "execute_result",
          "data": {
            "text/html": [
              "<div>\n",
              "<style scoped>\n",
              "    .dataframe tbody tr th:only-of-type {\n",
              "        vertical-align: middle;\n",
              "    }\n",
              "\n",
              "    .dataframe tbody tr th {\n",
              "        vertical-align: top;\n",
              "    }\n",
              "\n",
              "    .dataframe thead th {\n",
              "        text-align: right;\n",
              "    }\n",
              "</style>\n",
              "<table border=\"1\" class=\"dataframe\">\n",
              "  <thead>\n",
              "    <tr style=\"text-align: right;\">\n",
              "      <th></th>\n",
              "      <th>longitude</th>\n",
              "      <th>latitude</th>\n",
              "      <th>housing_median_age</th>\n",
              "      <th>total_rooms</th>\n",
              "      <th>total_bedrooms</th>\n",
              "      <th>population</th>\n",
              "      <th>households</th>\n",
              "      <th>median_income</th>\n",
              "      <th>median_house_value</th>\n",
              "    </tr>\n",
              "  </thead>\n",
              "  <tbody>\n",
              "    <tr>\n",
              "      <th>count</th>\n",
              "      <td>17000.0</td>\n",
              "      <td>17000.0</td>\n",
              "      <td>17000.0</td>\n",
              "      <td>17000.0</td>\n",
              "      <td>17000.0</td>\n",
              "      <td>17000.0</td>\n",
              "      <td>17000.0</td>\n",
              "      <td>17000.0</td>\n",
              "      <td>17000.0</td>\n",
              "    </tr>\n",
              "    <tr>\n",
              "      <th>mean</th>\n",
              "      <td>-119.6</td>\n",
              "      <td>35.6</td>\n",
              "      <td>28.6</td>\n",
              "      <td>2643.7</td>\n",
              "      <td>539.4</td>\n",
              "      <td>1429.6</td>\n",
              "      <td>501.2</td>\n",
              "      <td>3.9</td>\n",
              "      <td>207.3</td>\n",
              "    </tr>\n",
              "    <tr>\n",
              "      <th>std</th>\n",
              "      <td>2.0</td>\n",
              "      <td>2.1</td>\n",
              "      <td>12.6</td>\n",
              "      <td>2179.9</td>\n",
              "      <td>421.5</td>\n",
              "      <td>1147.9</td>\n",
              "      <td>384.5</td>\n",
              "      <td>1.9</td>\n",
              "      <td>116.0</td>\n",
              "    </tr>\n",
              "    <tr>\n",
              "      <th>min</th>\n",
              "      <td>-124.3</td>\n",
              "      <td>32.5</td>\n",
              "      <td>1.0</td>\n",
              "      <td>2.0</td>\n",
              "      <td>1.0</td>\n",
              "      <td>3.0</td>\n",
              "      <td>1.0</td>\n",
              "      <td>0.5</td>\n",
              "      <td>15.0</td>\n",
              "    </tr>\n",
              "    <tr>\n",
              "      <th>25%</th>\n",
              "      <td>-121.8</td>\n",
              "      <td>33.9</td>\n",
              "      <td>18.0</td>\n",
              "      <td>1462.0</td>\n",
              "      <td>297.0</td>\n",
              "      <td>790.0</td>\n",
              "      <td>282.0</td>\n",
              "      <td>2.6</td>\n",
              "      <td>119.4</td>\n",
              "    </tr>\n",
              "    <tr>\n",
              "      <th>50%</th>\n",
              "      <td>-118.5</td>\n",
              "      <td>34.2</td>\n",
              "      <td>29.0</td>\n",
              "      <td>2127.0</td>\n",
              "      <td>434.0</td>\n",
              "      <td>1167.0</td>\n",
              "      <td>409.0</td>\n",
              "      <td>3.5</td>\n",
              "      <td>180.4</td>\n",
              "    </tr>\n",
              "    <tr>\n",
              "      <th>75%</th>\n",
              "      <td>-118.0</td>\n",
              "      <td>37.7</td>\n",
              "      <td>37.0</td>\n",
              "      <td>3151.2</td>\n",
              "      <td>648.2</td>\n",
              "      <td>1721.0</td>\n",
              "      <td>605.2</td>\n",
              "      <td>4.8</td>\n",
              "      <td>265.0</td>\n",
              "    </tr>\n",
              "    <tr>\n",
              "      <th>max</th>\n",
              "      <td>-114.3</td>\n",
              "      <td>42.0</td>\n",
              "      <td>52.0</td>\n",
              "      <td>37937.0</td>\n",
              "      <td>6445.0</td>\n",
              "      <td>35682.0</td>\n",
              "      <td>6082.0</td>\n",
              "      <td>15.0</td>\n",
              "      <td>500.0</td>\n",
              "    </tr>\n",
              "  </tbody>\n",
              "</table>\n",
              "</div>"
            ],
            "text/plain": [
              "       longitude  latitude  ...  median_income  median_house_value\n",
              "count    17000.0   17000.0  ...        17000.0             17000.0\n",
              "mean      -119.6      35.6  ...            3.9               207.3\n",
              "std          2.0       2.1  ...            1.9               116.0\n",
              "min       -124.3      32.5  ...            0.5                15.0\n",
              "25%       -121.8      33.9  ...            2.6               119.4\n",
              "50%       -118.5      34.2  ...            3.5               180.4\n",
              "75%       -118.0      37.7  ...            4.8               265.0\n",
              "max       -114.3      42.0  ...           15.0               500.0\n",
              "\n",
              "[8 rows x 9 columns]"
            ]
          },
          "metadata": {
            "tags": []
          },
          "execution_count": 6
        }
      ]
    },
    {
      "cell_type": "markdown",
      "metadata": {
        "id": "Lr6wYl2bt2Ep",
        "colab_type": "text"
      },
      "source": [
        " ## 첫 번째 모델 만들기\n",
        "\n",
        "이 실습에서는 라벨(타겟이라고도 함) 역할을 하는 `median_house_value`에 대한 예측을 시도합니다. 입력 특성으로는 `total_rooms`를 사용합니다.\n",
        "\n",
        "**참고:** 데이터는 지역 단위이므로 이 특성은 해당 지역의 전체 방 수를 나타냅니다.\n",
        "\n",
        "모델을 학습시키려면 텐서플로우 [Estimator](https://www.tensorflow.org/get_started/estimator) API가 제공하는 [LinearRegressor](https://www.tensorflow.org/api_docs/python/tf/estimator/LinearRegressor) 인터페이스를 사용합니다. 이 API는 저수준 모델 작업을 알아서 처리하고 모델 학습, 평가, 추론을 수행하는 데 편리하게 사용되는 메소드를 노출합니다."
      ]
    },
    {
      "cell_type": "markdown",
      "metadata": {
        "id": "0cpcsieFhsNI",
        "colab_type": "text"
      },
      "source": [
        " ### 1단계: 특성 정의 및 특성 열 구성"
      ]
    },
    {
      "cell_type": "markdown",
      "metadata": {
        "id": "EL8-9d4ZJNR7",
        "colab_type": "text"
      },
      "source": [
        " 학습 데이터를 텐서플로우로 가져오려면 각 특성에 들어있는 데이터 유형을 지정해야 합니다. 이 실습과 이후 실습에서는 주로 2가지 데이터 유형을 사용합니다.\n",
        "\n",
        "* **범주형 데이터**: 텍스트로 이루어진 데이터입니다. 이 실습의 주택 데이터 세트는 범주형 데이터를 포함하지 않지만 주택 양식, 부동산 광고 문구 등의 예를 보게 될 수도 있습니다.\n",
        "\n",
        "* **수치 데이터**: 정수 또는 부동 소수점 숫자이며 숫자로 취급하려는 데이터입니다. 이후에도 설명하겠지만, 우편번호 등의 수치 데이터는 범주형으로 취급하는 경우도 있습니다.\n",
        "\n",
        "텐서플로우에서 특성의 데이터 유형을 지정하려면 **특성 열**이라는 구조체를 사용합니다. 특성 열은 특성 데이터에 대한 설명만 저장하며 특성 데이터 자체는 포함하지 않습니다.\n",
        "\n",
        "우선은 `total_rooms`라는 수치 입력 데이터 하나만 사용하겠습니다. 다음 코드에서는 `california_housing_dataframe`에서 `total_rooms` 데이터를 추출하고 `numeric_column`으로 특성 열을 정의하여 데이터가 숫자임을 지정합니다."
      ]
    },
    {
      "cell_type": "code",
      "metadata": {
        "id": "yOWy9xnC1mzR",
        "colab_type": "code",
        "colab": {}
      },
      "source": [
        "#define the input feature: total_rooms\n",
        "my_feature = california_housing_dataframe[[\"total_rooms\"]]\n",
        "\n",
        "#configure a numeric feature column for total_rooms\n",
        "feature_columns = [tf.feature_column.numeric_column(\"total_rooms\")]"
      ],
      "execution_count": 0,
      "outputs": []
    },
    {
      "cell_type": "code",
      "metadata": {
        "id": "5jnDWPII2mPG",
        "colab_type": "code",
        "colab": {
          "base_uri": "https://localhost:8080/",
          "height": 221
        },
        "outputId": "55b8de79-b10b-4507-a0bc-72a88373fc87"
      },
      "source": [
        "#test code\n",
        "# california_housing_dataframe[[\"total_rooms\"]]\n",
        "california_housing_dataframe[\"total_rooms\"]"
      ],
      "execution_count": 8,
      "outputs": [
        {
          "output_type": "execute_result",
          "data": {
            "text/plain": [
              "15633   2591.0\n",
              "3926    1475.0\n",
              "730     3928.0\n",
              "5438    1551.0\n",
              "13138   2741.0\n",
              "         ...  \n",
              "12893   1150.0\n",
              "14653   1658.0\n",
              "12546   6006.0\n",
              "954     1139.0\n",
              "7802    3143.0\n",
              "Name: total_rooms, Length: 17000, dtype: float64"
            ]
          },
          "metadata": {
            "tags": []
          },
          "execution_count": 8
        }
      ]
    },
    {
      "cell_type": "markdown",
      "metadata": {
        "id": "K_3S8teX7Rd2",
        "colab_type": "text"
      },
      "source": [
        " **참고:** `total_rooms` 데이터는 1차원 배열(각 지역의 전체 방 수로 이루어진 목록) 형태입니다. 이는 `numeric_column`의 기본 형태이므로 인수로 전달할 필요가 없습니다."
      ]
    },
    {
      "cell_type": "markdown",
      "metadata": {
        "id": "UMl3qrU5MGV6",
        "colab_type": "text"
      },
      "source": [
        " ### 2단계: 타겟 정의"
      ]
    },
    {
      "cell_type": "markdown",
      "metadata": {
        "id": "cw4nrfcB7kyk",
        "colab_type": "text"
      },
      "source": [
        " 다음으로는 타겟인 `median_house_value`를 정의합니다. 이 데이터도 `california_housing_dataframe`에서 가져옵니다."
      ]
    },
    {
      "cell_type": "code",
      "metadata": {
        "id": "TBUeBgLS2UVo",
        "colab_type": "code",
        "colab": {}
      },
      "source": [
        "#define the label\n",
        "targets = california_housing_dataframe[\"median_house_value\"]"
      ],
      "execution_count": 0,
      "outputs": []
    },
    {
      "cell_type": "markdown",
      "metadata": {
        "id": "4M-rTFHL2UkA",
        "colab_type": "text"
      },
      "source": [
        " ### 3단계: LinearRegressor 구성"
      ]
    },
    {
      "cell_type": "markdown",
      "metadata": {
        "id": "fUfGQUNp7jdL",
        "colab_type": "text"
      },
      "source": [
        " 다음으로는 LinearRegressor를 사용하여 선형 회귀 모델을구성합니다. 미니 배치 확률적 경사하강법(SGD)을 구현하는 `GradientDescentOptimizer`를 사용하여 이 모델을 학습시킬 것입니다. `learning_rate` 인수는 경사 단계의 크기를 조절합니다.\n",
        "\n",
        "**참고:** 안전을 위해 옵티마이저에 `clip_gradients_by_norm`을 통해 [경사 제한](https://developers.google.com/machine-learning/glossary/#gradient_clipping)을 적용합니다. 경사 제한은 학습 중에 경사가 너무 커져서 경사하강법이 실패하는 경우가 나타나지 않도록 제한합니다. "
      ]
    },
    {
      "cell_type": "code",
      "metadata": {
        "id": "UA6uCLQp6N7t",
        "colab_type": "code",
        "colab": {}
      },
      "source": [
        "#use gradient descent as the optimizer for training the model\n",
        "my_optimizer = tf.train.GradientDescentOptimizer(learning_rate=0.0000001)\n",
        "my_optimizer = tf.contrib.estimator.clip_gradients_by_norm(my_optimizer, 5.0)\n",
        "\n",
        "#configure the linear regression model with our feature columns and optimizer\n",
        "#set a learning rate of 0.0000001 for gradient descent\n",
        "linear_regressor = tf.estimator.LinearRegressor(\n",
        "    feature_columns = feature_columns,\n",
        "    optimizer = my_optimizer\n",
        ")"
      ],
      "execution_count": 0,
      "outputs": []
    },
    {
      "cell_type": "markdown",
      "metadata": {
        "id": "-0IztwdK2f3F",
        "colab_type": "text"
      },
      "source": [
        " ### 4단계: 입력 함수 정의"
      ]
    },
    {
      "cell_type": "markdown",
      "metadata": {
        "id": "S5M5j6xSCHxx",
        "colab_type": "text"
      },
      "source": [
        " 캘리포니아 주택 데이터를 `LinearRegressor`로 가져오려면 텐서플로우에 데이터 전처리 방법 및 모델 학습 중의 일괄 처리, 셔플, 반복 방법을 알려주는 입력 함수를 정의해야 합니다.\n",
        "\n",
        "우선 *pandas* 특성 데이터를 NumPy 배열의 dict로 변환합니다. 그런 다음 텐서플로우의 [Dataset API](https://www.tensorflow.org/programmers_guide/datasets)를 사용하여 이 데이터로부터 데이터 세트 개체를 생성하고 `batch_size` 크기의 배치로 나누어 지정한 세대 수(num_epochs)만큼 반복합니다.\n",
        "\n",
        "**참고:** 기본값인 `num_epochs=None`을 `repeat()`에 전달하면 입력 데이터가 무한정 반복됩니다.\n",
        "\n",
        "다음으로, `shuffle`을 `True`로 설정하면 학습 중에 데이터가 모델에 무작위로 전달되도록 데이터가 뒤섞입니다. `buffer_size` 인수는 `shuffle`에서 무작위로 추출할 데이터 세트의 크기를 지정합니다.\n",
        "\n",
        "마지막으로 입력 함수에서 데이터 세트에 대한 반복자를 만들고 다음 데이터 배치를 LinearRegressor에 반환합니다."
      ]
    },
    {
      "cell_type": "code",
      "metadata": {
        "id": "dbUqrgBL8ly7",
        "colab_type": "code",
        "colab": {}
      },
      "source": [
        "def my_input_fn(features, targets, batch_size=1, shuffle=True, num_epochs=None):\n",
        "    \"\"\"Trains a linear regression model of one feature\n",
        "\n",
        "    Args:\n",
        "        features: pandas Dataframe of features\n",
        "        targets: pandas DataFrame of targets\n",
        "        batch_size: Size of batches to be passed to the model\n",
        "        shuffle: True or False. Whether to shuffle the data\n",
        "        num_epochs: Number of epochs for which data should be repeated. None = repead indefinitely\n",
        "    Returns:\n",
        "        Tuple of (feature, labels) for next data batch\n",
        "    \"\"\"\n",
        "\n",
        "    #convert pandas data into a dict of np arrays\n",
        "    features = {key:np.array(value) for key, value in dict(features).items()}\n",
        "\n",
        "    #construct a dataset, and configure batching/repeating\n",
        "    ds = Dataset.from_tensor_slices((features, targets)) # warning: 2GB limit\n",
        "    ds = ds.batch(batch_size).repeat(num_epochs)\n",
        "\n",
        "    #shuffle the data, if specified\n",
        "    if shuffle:\n",
        "        ds = ds.shuffle(buffer_size = 10000)\n",
        "\n",
        "    #Return the next batch of data\n",
        "    features, labels = ds.make_one_shot_iterator().get_next()\n",
        "    return features, labels"
      ],
      "execution_count": 0,
      "outputs": []
    },
    {
      "cell_type": "markdown",
      "metadata": {
        "id": "wwa6UeA1V5F_",
        "colab_type": "text"
      },
      "source": [
        " **참고:** 이후 실습에도 이 입력 함수를 계속 사용합니다. 입력 함수 및 `Dataset` API에 대한 자세한 내용은 [텐서플로우 프로그래머 가이드](https://www.tensorflow.org/programmers_guide/datasets)를 참조하세요."
      ]
    },
    {
      "cell_type": "markdown",
      "metadata": {
        "id": "4YS50CQb2ooO",
        "colab_type": "text"
      },
      "source": [
        " ### 5단계: 모델 학습"
      ]
    },
    {
      "cell_type": "markdown",
      "metadata": {
        "id": "yP92XkzhU803",
        "colab_type": "text"
      },
      "source": [
        " 이제 linear_regressor로부터 train()을 호출하여 모델을 학습시킬 수 있습니다. `my_feature` 및 `target`을 인수로 전달할 수 있도록 `my_input_fn`을 `lambda`에 래핑하겠습니다. 자세한 내용은 [텐서플로우 입력 함수 가이드](https://www.tensorflow.org/get_started/input_fn#passing_input_fn_data_to_your_model)를 참조하세요. 처음에는 100단계만 학습하려고 합니다."
      ]
    },
    {
      "cell_type": "code",
      "metadata": {
        "id": "r78mnLbYvQEg",
        "colab_type": "code",
        "colab": {}
      },
      "source": [
        "_ = linear_regressor.train(\n",
        "    input_fn = lambda:my_input_fn(my_feature, targets),\n",
        "    steps = 100\n",
        ")"
      ],
      "execution_count": 0,
      "outputs": []
    },
    {
      "cell_type": "markdown",
      "metadata": {
        "id": "7Nwxqxlx2sOv",
        "colab_type": "text"
      },
      "source": [
        " ### 6단계: 모델 평가"
      ]
    },
    {
      "cell_type": "markdown",
      "metadata": {
        "id": "KoDaF2dlJQG5",
        "colab_type": "text"
      },
      "source": [
        " 모델이 학습 중에 학습 데이터에 얼마나 맞춰졌는지 확인하기 위해 학습 데이터로 예측을 실행하겠습니다.\n",
        "\n",
        "**참고:** 학습 오차는 모델이 학습 데이터에 얼마나 맞춰졌는지를 나타내는 척도이지만 모델이 **_새 데이터로 일반화_**되는 정도를 측정하지는 **_않습니다._** 이후 실습에서는 모델의 일반화 능력을 평가할 수 있도록 데이터를 분할하는 방법을 알아봅니다.\n"
      ]
    },
    {
      "cell_type": "code",
      "metadata": {
        "id": "35HtRT_5v7mJ",
        "colab_type": "code",
        "colab": {
          "base_uri": "https://localhost:8080/",
          "height": 51
        },
        "outputId": "d0bc4ae9-8852-43aa-ad5a-c5856596ac6c"
      },
      "source": [
        "# create an input function for predictions\n",
        "# note: since we're making just one prediction for each example, \n",
        "# we don't need to repeat or shuffle the data here\n",
        "prediction_input_fn = lambda: my_input_fn(my_feature, targets, num_epochs=1, shuffle=False)\n",
        "\n",
        "# Call predict() on the linear_regressor to make predictions\n",
        "predictions = linear_regressor.predict(input_fn=prediction_input_fn)\n",
        "\n",
        "# Format predictions as a Numpy array, so we can calculate error metrics\n",
        "predictions = np.array([item['predictions'][0] for item in predictions])\n",
        "\n",
        "# Print Mean Squared Error and Root Mean Squared Error\n",
        "mean_squared_error = metrics.mean_squared_error(predictions, targets)\n",
        "root_mean_squared_error = math.sqrt(mean_squared_error)\n",
        "print(\"Mean Squared Error (on training data): %0.3f\" % mean_squared_error)\n",
        "print(\"Root Mean Squared Error (on training data): %0.3f\" % root_mean_squared_error)"
      ],
      "execution_count": 17,
      "outputs": [
        {
          "output_type": "stream",
          "text": [
            "Mean Squared Error (on training data): 56367.025\n",
            "Root Mean Squared Error (on training data): 237.417\n"
          ],
          "name": "stdout"
        }
      ]
    },
    {
      "cell_type": "markdown",
      "metadata": {
        "id": "AKWstXXPzOVz",
        "colab_type": "text"
      },
      "source": [
        " 우수한 모델인가요? 이 오차가 얼마나 큰지 어떻게 판단할 수 있을까요?\n",
        "\n",
        "평균 제곱 오차(MSE)는 해석하기가 어려울 수 있으므로 평균 제곱근 오차(RMSE)를 대신 참고하는 경우가 많습니다. RMSE의 장점은 원래 타겟과 동일한 척도로 해석할 수 있다는 것입니다.\n",
        "\n",
        "RMSE를 타겟의 최소값과 최대값의 차와 비교해 보겠습니다."
      ]
    },
    {
      "cell_type": "code",
      "metadata": {
        "id": "b8d1eIOV0xUO",
        "colab_type": "code",
        "colab": {
          "base_uri": "https://localhost:8080/",
          "height": 85
        },
        "outputId": "f271204d-0d9d-4df8-9a13-7c9c3dfd443e"
      },
      "source": [
        "min_house_value = california_housing_dataframe[\"median_house_value\"].min()\n",
        "max_house_value = california_housing_dataframe[\"median_house_value\"].max()\n",
        "min_max_difference = max_house_value - min_house_value\n",
        "\n",
        "print(\"Min. Median House Value: %0.3f\" % min_house_value)\n",
        "print(\"Max. Median House Value: %0.3f\" % max_house_value)\n",
        "print(\"Difference between Min. and Max.: %0.3f\" % min_max_difference)\n",
        "print(\"Root Mean Squared Error: %0.3f\" % root_mean_squared_error)"
      ],
      "execution_count": 18,
      "outputs": [
        {
          "output_type": "stream",
          "text": [
            "Min. Median House Value: 14.999\n",
            "Max. Median House Value: 500.001\n",
            "Difference between Min. and Max.: 485.002\n",
            "Root Mean Squared Error: 237.417\n"
          ],
          "name": "stdout"
        }
      ]
    },
    {
      "cell_type": "markdown",
      "metadata": {
        "id": "JigJr0C7Pzit",
        "colab_type": "text"
      },
      "source": [
        " 오차 범위가 타겟 값 범위의 거의 절반에 달합니다. 오차를 이보다 줄일 수 있을까요?\n",
        "\n",
        "이 질문이야말로 모든 모델 개발자들의 숙제입니다. 모델 오차를 줄이는 몇 가지 기본적인 전략을 수립해 보겠습니다.\n",
        "\n",
        "가장 처음에 할 수 있는 일은 전반적 요약 통계를 참조하여 예측과 타겟의 일치율을 조사하는 것입니다."
      ]
    },
    {
      "cell_type": "code",
      "metadata": {
        "id": "m6Z_1TMP1wOb",
        "colab_type": "code",
        "colab": {
          "base_uri": "https://localhost:8080/",
          "height": 297
        },
        "outputId": "841a2e9e-f997-41d9-dfa8-b9a430994b10"
      },
      "source": [
        "calibration_data = pd.DataFrame()\n",
        "calibration_data[\"predictions\"] = pd.Series(predictions)\n",
        "calibration_data[\"targets\"] = pd.Series(targets)\n",
        "calibration_data.describe()"
      ],
      "execution_count": 19,
      "outputs": [
        {
          "output_type": "execute_result",
          "data": {
            "text/html": [
              "<div>\n",
              "<style scoped>\n",
              "    .dataframe tbody tr th:only-of-type {\n",
              "        vertical-align: middle;\n",
              "    }\n",
              "\n",
              "    .dataframe tbody tr th {\n",
              "        vertical-align: top;\n",
              "    }\n",
              "\n",
              "    .dataframe thead th {\n",
              "        text-align: right;\n",
              "    }\n",
              "</style>\n",
              "<table border=\"1\" class=\"dataframe\">\n",
              "  <thead>\n",
              "    <tr style=\"text-align: right;\">\n",
              "      <th></th>\n",
              "      <th>predictions</th>\n",
              "      <th>targets</th>\n",
              "    </tr>\n",
              "  </thead>\n",
              "  <tbody>\n",
              "    <tr>\n",
              "      <th>count</th>\n",
              "      <td>17000.0</td>\n",
              "      <td>17000.0</td>\n",
              "    </tr>\n",
              "    <tr>\n",
              "      <th>mean</th>\n",
              "      <td>0.1</td>\n",
              "      <td>207.3</td>\n",
              "    </tr>\n",
              "    <tr>\n",
              "      <th>std</th>\n",
              "      <td>0.1</td>\n",
              "      <td>116.0</td>\n",
              "    </tr>\n",
              "    <tr>\n",
              "      <th>min</th>\n",
              "      <td>0.0</td>\n",
              "      <td>15.0</td>\n",
              "    </tr>\n",
              "    <tr>\n",
              "      <th>25%</th>\n",
              "      <td>0.1</td>\n",
              "      <td>119.4</td>\n",
              "    </tr>\n",
              "    <tr>\n",
              "      <th>50%</th>\n",
              "      <td>0.1</td>\n",
              "      <td>180.4</td>\n",
              "    </tr>\n",
              "    <tr>\n",
              "      <th>75%</th>\n",
              "      <td>0.2</td>\n",
              "      <td>265.0</td>\n",
              "    </tr>\n",
              "    <tr>\n",
              "      <th>max</th>\n",
              "      <td>1.9</td>\n",
              "      <td>500.0</td>\n",
              "    </tr>\n",
              "  </tbody>\n",
              "</table>\n",
              "</div>"
            ],
            "text/plain": [
              "       predictions  targets\n",
              "count      17000.0  17000.0\n",
              "mean           0.1    207.3\n",
              "std            0.1    116.0\n",
              "min            0.0     15.0\n",
              "25%            0.1    119.4\n",
              "50%            0.1    180.4\n",
              "75%            0.2    265.0\n",
              "max            1.9    500.0"
            ]
          },
          "metadata": {
            "tags": []
          },
          "execution_count": 19
        }
      ]
    },
    {
      "cell_type": "markdown",
      "metadata": {
        "id": "E2-bf8Hq36y8",
        "colab_type": "text"
      },
      "source": [
        " 이 정보는 유용해 보입니다. 평균 값을 모델의 RMSE와 비교해 보면 어떠한가요? 다양한 분위는 어떠한가요?\n",
        "\n",
        "학습한 데이터와 선을 시각화할 수도 있습니다. 단일 특성에 대한 선형 회귀는 입력 *x*를 출력 *y*에 매핑하는 직선으로 표현될 수 있습니다.\n",
        "\n",
        "우선 판독 가능한 산포도를 그릴 수 있도록 균일한 무작위 데이터 샘플을 추출하겠습니다."
      ]
    },
    {
      "cell_type": "code",
      "metadata": {
        "id": "JUmri0qd2edE",
        "colab_type": "code",
        "colab": {}
      },
      "source": [
        "sample = california_housing_dataframe.sample(n=300)"
      ],
      "execution_count": 0,
      "outputs": []
    },
    {
      "cell_type": "markdown",
      "metadata": {
        "id": "N-JwuJBKU81J",
        "colab_type": "text"
      },
      "source": [
        " 다음으로는 산포도와 함께 모델의 바이어스 항와 특성 가중치를 바탕으로 학습한 선을 그리겠습니다. 이 선은 빨간색으로 표시됩니다."
      ]
    },
    {
      "cell_type": "code",
      "metadata": {
        "id": "rkyuhKCG2mI6",
        "colab_type": "code",
        "colab": {
          "base_uri": "https://localhost:8080/",
          "height": 280
        },
        "outputId": "fd6744df-9730-4db4-d54c-ccac5603a5f2"
      },
      "source": [
        "# Get the min and max total_rooms values.\n",
        "x_0 = sample[\"total_rooms\"].min()\n",
        "x_1 = sample[\"total_rooms\"].max()\n",
        "\n",
        "# Retrieve the final weight and bias generated during training.\n",
        "weight = linear_regressor.get_variable_value('linear/linear_model/total_rooms/weights')[0]\n",
        "bias = linear_regressor.get_variable_value('linear/linear_model/bias_weights')\n",
        "\n",
        "# Get the predicted median_house_values for the min and max total_rooms values\n",
        "y_0 = weight * x_0 + bias\n",
        "y_1 = weight * x_1 + bias\n",
        "\n",
        "# Plot our regression line from (x_0, y_0) to (x_1, y_1)\n",
        "plt.plot([x_0, x_1], [y_0, y_1], c='r')\n",
        "\n",
        "# Label the graph axes.\n",
        "plt.ylabel(\"median_house_value\")\n",
        "plt.xlabel(\"total_rooms\")\n",
        "\n",
        "# Plot a scatter plot from our data sample\n",
        "plt.scatter(sample[\"total_rooms\"], sample[\"median_house_value\"])\n",
        "\n",
        "# Display graph\n",
        "plt.show()"
      ],
      "execution_count": 21,
      "outputs": [
        {
          "output_type": "display_data",
          "data": {
            "image/png": "[encoded data removed]",
            "text/plain": [
              "<Figure size 432x288 with 1 Axes>"
            ]
          },
          "metadata": {
            "tags": []
          }
        }
      ]
    },
    {
      "cell_type": "markdown",
      "metadata": {
        "id": "t0lRt4USU81L",
        "colab_type": "text"
      },
      "source": [
        " 이 최초 선은 상당히 이탈된 상태입니다. 요약 통계를 다시 조사하여 이 선이 나타내는 정보와 부합하는지 확인해 보세요.\n",
        "\n",
        "이러한 초기 상태 확인을 통해 훨씬 더 나은 선을 찾을 수 있다는 점을 알 수 있습니다."
      ]
    },
    {
      "cell_type": "markdown",
      "metadata": {
        "id": "AZWF67uv0HTG",
        "colab_type": "text"
      },
      "source": [
        " ## 모델 초매개변수 조정\n",
        "이 실습에서는 편의를 위해 위 모든 코드를 단일 함수에 넣었습니다. 다른 매개변수로 함수를 호출하여 효과를 확인할 수 있습니다.\n",
        "\n",
        "이 함수에서 균등하게 10개로 나눈 기간으로 학습을 진행하여 모델의 개선을 기간별로 살펴보겠습니다.\n",
        "\n",
        "각 기간에 대한 학습 손실을 계산하고 그래프로 그리겠습니다. 이를 통해 모델이 수렴되는 시점을 판단하거나 반복이 더 필요함을 확인할 수 있습니다.\n",
        "\n",
        "또한 모델이 학습한 특성 가중치와 바이어스 항을 시간별로 도식화하겠습니다. 이는 모델이 수렴되는 모습을 확인하는 또 다른 방법입니다."
      ]
    },
    {
      "cell_type": "code",
      "metadata": {
        "id": "L3yAucjX4bwX",
        "colab_type": "code",
        "colab": {}
      },
      "source": [
        "def train_model(learning_rate, steps, batch_size, input_feature=\"total_rooms\"):\n",
        "    \"\"\"Trains a linear regression model of one feature\n",
        "\n",
        "    Args:\n",
        "        Learning_rate: A `float`, the learning rate.\n",
        "        steps: A non-zero `int`, the total number of training steps. A training step \n",
        "            consists of a forward and backward pass using a single batch\n",
        "        batch_size: A non_zero `int`, the batch size\n",
        "        input_feature: A `string` specifying a column from `california_housing_dataframe` \n",
        "            to use as input feature\n",
        "    \"\"\"\n",
        "\n",
        "    periods = 10\n",
        "    steps_per_periods = steps / periods\n",
        "\n",
        "    my_feature = input_feature\n",
        "    my_feature_data = california_housing_dataframe[[my_feature]]\n",
        "    my_label = \"median_house_value\"\n",
        "    targets = california_housing_dataframe[my_label]\n",
        "\n",
        "    # Create feature columns\n",
        "    feature_columns = [tf.feature_column.numeric_column(my_feature)]\n",
        "\n",
        "    # Create input functions\n",
        "    training_input_fn = lambda:my_input_fn(my_feature_data, targets, batch_size=batch_size)\n",
        "    prediction_input_fn = lambda:my_input_fn(my_feature_data, targets, num_epochs=1, shuffle=False)\n",
        "\n",
        "    # Create a linear regressor object\n",
        "    my_optimizer = tf.train.GradientDescentOptimizer(learning_rate=learning_rate)\n",
        "    my_optimizer = tf.contrib.estimator.clip_gradients_by_norm(my_optimizer, 5.0)\n",
        "    linear_regressor = tf.estimator.LinearRegressor(\n",
        "        feature_columns = feature_columns,\n",
        "        optimizer = my_optimizer\n",
        "    )\n",
        "\n",
        "    #Set up to plot the state of our model's line each period\n",
        "    plt.figure(figsize=(15,6))\n",
        "    plt.subplot(1, 2, 1)\n",
        "    plt.title(\"Learned Line by Period\")\n",
        "    plt.ylabel(my_label)\n",
        "    plt.xlabel(my_feature)\n",
        "    sample = california_housing_dataframe.sample(n=300)\n",
        "    plt.scatter(sample[my_feature], sample[my_label])\n",
        "    colors = [cm.coolwarm(x) for x in np.linspace(-1, 1, periods)]\n",
        "\n",
        "    # Train the model, but do so inside a loop so that we can periodically assess\n",
        "    # loss metrics\n",
        "    print(\"Training model...\")\n",
        "    print(\"RMSE (on training data):\")\n",
        "    root_mean_squared_errors = []\n",
        "    for period in range(0, periods):\n",
        "        # Train the model, starting from the prior state\n",
        "        linear_regressor.train(\n",
        "            input_fn=training_input_fn,\n",
        "            steps=steps_per_periods\n",
        "        )\n",
        "\n",
        "        # Take a break and compute predictions\n",
        "        predictions = linear_regressor.predict(input_fn=prediction_input_fn)\n",
        "        predictions = np.array([item['predictions'][0] for item in predictions])\n",
        "\n",
        "\n",
        "        # Compute loss\n",
        "        root_mean_squared_error = math.sqrt(\n",
        "            metrics.mean_squared_error(predictions, targets)\n",
        "        )\n",
        "        # Occasionally print the current loss\n",
        "        print(\"   Period %02d: %0.2f\" % (period, root_mean_squared_error))\n",
        "        # Add the loss metrics from this period to our list\n",
        "        root_mean_squared_errors.append(root_mean_squared_error)\n",
        "        # Finally, track the weights and biases over time\n",
        "        # Apply some math to ensure that the data and line are plotted neatly\n",
        "        y_extents = np.array([0, sample[my_label].max()])\n",
        "\n",
        "        weight = linear_regressor.get_variable_value('linear/linear_model/%s/weights' % input_feature)[0]\n",
        "        bias = linear_regressor.get_variable_value('linear/linear_model/bias_weights')\n",
        "\n",
        "        x_extents = (y_extents - bias) / weight\n",
        "        x_extents = np.maximum(np.minimum(x_extents, sample[my_feature].max()), sample[my_feature].min())\n",
        "        y_extents = weight * x_extents + bias\n",
        "        plt.plot(x_extents, y_extents, color=colors[period])\n",
        "    print(\"Model training finished\")\n",
        "\n",
        "    # Output a graph of loss metrics over periods\n",
        "    plt.subplot(1, 2, 2)\n",
        "    plt.ylabel(\"RMSE\")\n",
        "    plt.xlabel(\"Periods\")\n",
        "    plt.title(\"Root Mean Squared Error vs. Periods\")\n",
        "    plt.tight_layout()\n",
        "    plt.plot(root_mean_squared_errors)\n",
        "\n",
        "    # Output a table with calibration data.\n",
        "    calibration_data = pd.DataFrame()\n",
        "    calibration_data[\"predictions\"] = pd.Series(predictions)\n",
        "    calibration_data[\"targets\"] = pd.Series(targets)\n",
        "    display.display(calibration_data.describe())\n",
        "\n",
        "    print(\"Final RMSE (on training data): %0.2f\" % root_mean_squared_error)"
      ],
      "execution_count": 0,
      "outputs": []
    },
    {
      "cell_type": "markdown",
      "metadata": {
        "id": "kg8A4ArBU81Q",
        "colab_type": "text"
      },
      "source": [
        " ## 작업 1: 180 이하의 RMSE 달성\n",
        "\n",
        "모델 초매개변수를 조정하여 타겟 분포와 더 잘 일치하도록 손실을 개선합니다.\n",
        "5분이 지나도록 RMSE를 180 이하로 떨어뜨리지 못한 경우 해결 방법에을 확인하여 가능한 조합을 알아보세요."
      ]
    },
    {
      "cell_type": "code",
      "metadata": {
        "id": "asuIqSBZAbUn",
        "colab_type": "code",
        "colab": {
          "base_uri": "https://localhost:8080/",
          "height": 959
        },
        "outputId": "82a9b916-caba-43b5-8f11-ddd6cb599acb"
      },
      "source": [
        "train_model(\n",
        "    learning_rate=0.00001,\n",
        "    steps=100,\n",
        "    batch_size=1            \n",
        ")"
      ],
      "execution_count": 31,
      "outputs": [
        {
          "output_type": "stream",
          "text": [
            "Training model...\n",
            "RMSE (on training data):\n",
            "   Period 00: 236.32\n",
            "   Period 01: 235.11\n",
            "   Period 02: 233.90\n",
            "   Period 03: 232.70\n",
            "   Period 04: 231.50\n",
            "   Period 05: 230.31\n",
            "   Period 06: 229.13\n",
            "   Period 07: 227.96\n",
            "   Period 08: 226.79\n",
            "   Period 09: 225.63\n",
            "Model training finished\n"
          ],
          "name": "stdout"
        },
        {
          "output_type": "display_data",
          "data": {
            "text/html": [
              "<div>\n",
              "<style scoped>\n",
              "    .dataframe tbody tr th:only-of-type {\n",
              "        vertical-align: middle;\n",
              "    }\n",
              "\n",
              "    .dataframe tbody tr th {\n",
              "        vertical-align: top;\n",
              "    }\n",
              "\n",
              "    .dataframe thead th {\n",
              "        text-align: right;\n",
              "    }\n",
              "</style>\n",
              "<table border=\"1\" class=\"dataframe\">\n",
              "  <thead>\n",
              "    <tr style=\"text-align: right;\">\n",
              "      <th></th>\n",
              "      <th>predictions</th>\n",
              "      <th>targets</th>\n",
              "    </tr>\n",
              "  </thead>\n",
              "  <tbody>\n",
              "    <tr>\n",
              "      <th>count</th>\n",
              "      <td>17000.0</td>\n",
              "      <td>17000.0</td>\n",
              "    </tr>\n",
              "    <tr>\n",
              "      <th>mean</th>\n",
              "      <td>13.2</td>\n",
              "      <td>207.3</td>\n",
              "    </tr>\n",
              "    <tr>\n",
              "      <th>std</th>\n",
              "      <td>10.9</td>\n",
              "      <td>116.0</td>\n",
              "    </tr>\n",
              "    <tr>\n",
              "      <th>min</th>\n",
              "      <td>0.0</td>\n",
              "      <td>15.0</td>\n",
              "    </tr>\n",
              "    <tr>\n",
              "      <th>25%</th>\n",
              "      <td>7.3</td>\n",
              "      <td>119.4</td>\n",
              "    </tr>\n",
              "    <tr>\n",
              "      <th>50%</th>\n",
              "      <td>10.6</td>\n",
              "      <td>180.4</td>\n",
              "    </tr>\n",
              "    <tr>\n",
              "      <th>75%</th>\n",
              "      <td>15.8</td>\n",
              "      <td>265.0</td>\n",
              "    </tr>\n",
              "    <tr>\n",
              "      <th>max</th>\n",
              "      <td>189.7</td>\n",
              "      <td>500.0</td>\n",
              "    </tr>\n",
              "  </tbody>\n",
              "</table>\n",
              "</div>"
            ],
            "text/plain": [
              "       predictions  targets\n",
              "count      17000.0  17000.0\n",
              "mean          13.2    207.3\n",
              "std           10.9    116.0\n",
              "min            0.0     15.0\n",
              "25%            7.3    119.4\n",
              "50%           10.6    180.4\n",
              "75%           15.8    265.0\n",
              "max          189.7    500.0"
            ]
          },
          "metadata": {
            "tags": []
          }
        },
        {
          "output_type": "stream",
          "text": [
            "Final RMSE (on training data): 225.63\n"
          ],
          "name": "stdout"
        },
        {
          "output_type": "display_data",
          "data": {
            "image/png": "[encoded data removed]",
            "text/plain": [
              "<Figure size 1080x432 with 2 Axes>"
            ]
          },
          "metadata": {
            "tags": []
          }
        }
      ]
    },
    {
      "cell_type": "markdown",
      "metadata": {
        "id": "ajVM7rkoYXeL",
        "colab_type": "text"
      },
      "source": [
        " ### 해결 방법\n",
        "\n",
        "가능한 해결 방법 중 하나를 보려면 아래를 클릭하세요."
      ]
    },
    {
      "cell_type": "code",
      "metadata": {
        "id": "T3zmldDwYy5c",
        "colab_type": "code",
        "colab": {}
      },
      "source": [
        "train_model(\n",
        "    learning_rate=0.00002,\n",
        "    steps=500,\n",
        "    batch_size=5\n",
        ")"
      ],
      "execution_count": 0,
      "outputs": []
    },
    {
      "cell_type": "markdown",
      "metadata": {
        "id": "M8H0_D4vYa49",
        "colab_type": "text"
      },
      "source": [
        " 이는 가능한 조합 중 하나일 뿐이며, 우수한 결과를 내는 다른 설정 조합이 있을 수 있습니다. 일반적으로 이 실습의 목적은 *최상의* 설정을 찾는 것이 아니라 모델 구성을 조정하면 예측 품질에 어떠한 영향을 주는지 감을 잡는 것입니다."
      ]
    },
    {
      "cell_type": "markdown",
      "metadata": {
        "id": "QU5sLyYTqzqL",
        "colab_type": "text"
      },
      "source": [
        " ### 모델 조정에 대한 표준 휴리스틱이 있는가?\n",
        "\n",
        "흔히 제기되는 질문입니다. 단적으로 말해, 다양한 초매개변수의 효과는 데이터에 따라 다릅니다. 따라서 알기 쉽고 확고한 규칙은 존재하지 않으며, 실제 데이터로 테스트하는 과정이 필요합니다.\n",
        "\n",
        "그러나 유용하게 참고할 만한 몇 가지 경험칙이 있습니다.\n",
        "\n",
        " * 학습 오차는 점차 감소합니다. 처음에는 급격히 감소하다가 학습이 수렴됨에 따라 결국 한계에 다다릅니다.\n",
        " * 학습이 수렴되지 않았다면 더 오래 실행해 보세요.\n",
        " * 학습 오차가 너무 천천히 감소하는 경우 학습률을 높이면 더 빨리 감소할 수 있습니다.\n",
        "   * 학습률이 너무 높다면 정반대 현상이 나타나기도 합니다.\n",
        " * 학습 오차가 크게 요동한다면 학습률을 낮춰보세요.\n",
        "   * 학습률을 낮추면서 단계 수 또는 배치 크기를 늘리면 좋은 결과가 나타나는 경우가 많습니다.\n",
        " * 배치 크기가 너무 작아도 불안정성이 나타날 수 있습니다. 처음에는 100, 1000 등의 큰 값을 사용한 후 성능이 악화되지 않는 선까지 낮추세요.\n",
        "\n",
        "효과는 데이터에 따라 달라지므로 이러한 경험칙을 무조건적으로 따라서는 안 됩니다. 실험과 검증을 항상 반복하세요."
      ]
    },
    {
      "cell_type": "markdown",
      "metadata": {
        "id": "GpV-uF_cBCBU",
        "colab_type": "text"
      },
      "source": [
        " ## 작업 2: 다른 특성 실험\n",
        "\n",
        "`total_rooms` 특성을 `population` 특성으로 대체하면 결과가 개선되는지 확인해 봅니다.\n",
        "\n",
        "이 부분은 최대 5분까지만 진행하시기 바랍니다."
      ]
    },
    {
      "cell_type": "code",
      "metadata": {
        "id": "YMyOxzb0ZlAH",
        "colab_type": "code",
        "colab": {}
      },
      "source": [
        "# YOUR CODE HERE"
      ],
      "execution_count": 0,
      "outputs": []
    },
    {
      "cell_type": "markdown",
      "metadata": {
        "id": "ci1ISxxrZ7v0",
        "colab_type": "text"
      },
      "source": [
        " ### 해결 방법\n",
        "\n",
        "가능한 해결 방법 중 하나를 보려면 아래를 클릭하세요."
      ]
    },
    {
      "cell_type": "code",
      "metadata": {
        "id": "SjdQQCduZ7BV",
        "colab_type": "code",
        "colab": {}
      },
      "source": [
        "train_model(\n",
        "    learning_rate=0.00002,\n",
        "    steps=1000,\n",
        "    batch_size=5,\n",
        "    input_feature=\"population\"\n",
        ")"
      ],
      "execution_count": 0,
      "outputs": []
    }
  ]
}