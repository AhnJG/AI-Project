{
 "cells": [
  {
   "cell_type": "code",
   "execution_count": 4,
   "metadata": {},
   "outputs": [],
   "source": [
    "import cv2 as cv\n",
    "\n",
    "def adaptive_threshold():\n",
    "    imgFile = './mycard2.jpeg'\n",
    "    img = cv.imread(imgFile, cv.IMREAD_GRAYSCALE)\n",
    "    \n",
    "    r = 600.0 / img.shape[0]\n",
    "    dim = (int(img.shape[1] * r), 600)\n",
    "    img = cv.resize(img, dim, interpolation = cv.INTER_AREA)\n",
    "    \n",
    "    blur = cv.GaussianBlur(img, (5, 5), 0)\n",
    "    result_without_blur = cv.adaptiveThreshold(img, 255, cv.ADAPTIVE_THRESH_GAUSSIAN_C, cv.THRESH_BINARY, 21, 10)\n",
    "    result_with_blur = cv.adaptiveThreshold(blur, 255, cv.ADAPTIVE_THRESH_GAUSSIAN_C, cv.THRESH_BINARY, 21, 10)\n",
    "    cv.imshow('without blur', result_without_blur)\n",
    "    cv.imshow('with blur', result_with_blur)\n",
    "    \n",
    "    cv.waitKey(0)\n",
    "    cv.destroyAllWindows()\n",
    "    cv.waitKey(1)\n",
    "    \n",
    "adaptive_threshold()"
   ]
  }
 ],
 "metadata": {
  "kernelspec": {
   "display_name": "Python 3",
   "language": "python",
   "name": "python3"
  },
  "language_info": {
   "codemirror_mode": {
    "name": "ipython",
    "version": 3
   },
   "file_extension": ".py",
   "mimetype": "text/x-python",
   "name": "python",
   "nbconvert_exporter": "python",
   "pygments_lexer": "ipython3",
   "version": "3.5.6"
  }
 },
 "nbformat": 4,
 "nbformat_minor": 2
}
