{
 "cells": [
  {
   "cell_type": "code",
   "execution_count": 1,
   "metadata": {},
   "outputs": [],
   "source": [
    "#https://076923.github.io/posts/Python-opencv-8/\n",
    "import cv2"
   ]
  },
  {
   "cell_type": "code",
   "execution_count": 2,
   "metadata": {},
   "outputs": [
    {
     "name": "stdout",
     "output_type": "stream",
     "text": [
      "(852, 480, 3)\n",
      "(852, 480, 3)\n"
     ]
    },
    {
     "data": {
      "text/plain": [
       "-1"
      ]
     },
     "execution_count": 2,
     "metadata": {},
     "output_type": "execute_result"
    }
   ],
   "source": [
    "src = cv2.imread('./image/test/img0.png', cv2.IMREAD_COLOR)\n",
    "dst = cv2.imread('./image/test/t_img_1.jpeg', cv2.IMREAD_COLOR)\n",
    "\n",
    "#print(dst.shape[0])\n",
    "dst2 = cv2.resize(dst, dsize=(src.shape[1], src.shape[0]), interpolation=cv2.INTER_AREA)\n",
    "\n",
    "cv2.imshow('src', src)\n",
    "# cv2.imshow('dst', dst)\n",
    "cv2.imshow('dst2', dst2)\n",
    "\n",
    "print(src.shape)\n",
    "print(dst2.shape)\n",
    "\n",
    "cv2.waitKey(0)\n",
    "cv2.destroyAllWindows()\n",
    "cv2.waitKey(1)\n"
   ]
  },
  {
   "cell_type": "code",
   "execution_count": null,
   "metadata": {},
   "outputs": [],
   "source": []
  }
 ],
 "metadata": {
  "kernelspec": {
   "display_name": "Python 3",
   "language": "python",
   "name": "python3"
  },
  "language_info": {
   "codemirror_mode": {
    "name": "ipython",
    "version": 3
   },
   "file_extension": ".py",
   "mimetype": "text/x-python",
   "name": "python",
   "nbconvert_exporter": "python",
   "pygments_lexer": "ipython3",
   "version": "3.7.1"
  }
 },
 "nbformat": 4,
 "nbformat_minor": 2
}
