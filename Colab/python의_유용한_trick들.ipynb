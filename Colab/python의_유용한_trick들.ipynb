{
  "nbformat": 4,
  "nbformat_minor": 0,
  "metadata": {
    "colab": {
      "name": "python의 유용한 trick들.ipynb",
      "provenance": [],
      "collapsed_sections": [],
      "authorship_tag": "ABX9TyN/WSPNkEgNKSsg7JjQM+dm",
      "include_colab_link": true
    },
    "kernelspec": {
      "name": "python3",
      "display_name": "Python 3"
    }
  },
  "cells": [
    {
      "cell_type": "markdown",
      "metadata": {
        "id": "view-in-github",
        "colab_type": "text"
      },
      "source": [
        "<a href=\"https://colab.research.google.com/github/AhnJG/AI-Project/blob/master/Colab/python%EC%9D%98_%EC%9C%A0%EC%9A%A9%ED%95%9C_trick%EB%93%A4.ipynb\" target=\"_parent\"><img src=\"https://colab.research.google.com/assets/colab-badge.svg\" alt=\"Open In Colab\"/></a>"
      ]
    },
    {
      "cell_type": "code",
      "metadata": {
        "id": "4PAZ-qLWaY_y",
        "colab_type": "code",
        "colab": {
          "base_uri": "https://localhost:8080/",
          "height": 68
        },
        "outputId": "016fa580-3e3c-45e5-c1a2-36ea3ca9d37f"
      },
      "source": [
        "x = [True, True, False]\n",
        "y = [True, True, True]\n",
        "\n",
        "if any(x):\n",
        "    print(\"1. 적어도 하나는 True 이다.\")\n",
        "\n",
        "if all(x):\n",
        "    print(\"2. 전부 True이다, False는 하나도 없다\")\n",
        "\n",
        "if all(y):\n",
        "    print(\"3. 전부 True이다, False는 하나도 없다\")\n",
        "\n",
        "if any(x) and not all(x):\n",
        "    print(\"4. 적어도 하나의 True와 False가 있다.\")"
      ],
      "execution_count": null,
      "outputs": [
        {
          "output_type": "stream",
          "text": [
            "1. 적어도 하나는 True 이다.\n",
            "3. 전부 True이다, False는 하나도 없다\n",
            "4. 적어도 하나의 True와 False가 있다.\n"
          ],
          "name": "stdout"
        }
      ]
    },
    {
      "cell_type": "code",
      "metadata": {
        "id": "raWd9P-ha1L-",
        "colab_type": "code",
        "colab": {
          "base_uri": "https://localhost:8080/",
          "height": 34
        },
        "outputId": "1bc60192-cef3-4c27-c5d0-3f6b832bfff9"
      },
      "source": [
        "from collections import Counter\n",
        "\n",
        "# 각 문자의 빈도를 계산합니다.\n",
        "x = Counter(\"Hello World!\")\n",
        "\n",
        "print('x : ', x)"
      ],
      "execution_count": null,
      "outputs": [
        {
          "output_type": "stream",
          "text": [
            "x :  Counter({'l': 3, 'o': 2, 'H': 1, 'e': 1, ' ': 1, 'W': 1, 'r': 1, 'd': 1, '!': 1})\n"
          ],
          "name": "stdout"
        }
      ]
    },
    {
      "cell_type": "code",
      "metadata": {
        "id": "fQJD6yGRfgnP",
        "colab_type": "code",
        "colab": {
          "base_uri": "https://localhost:8080/",
          "height": 207
        },
        "outputId": "497613d8-1a6f-4032-dae4-6b2a15f19081"
      },
      "source": [
        "!pip install emoji"
      ],
      "execution_count": null,
      "outputs": [
        {
          "output_type": "stream",
          "text": [
            "Collecting emoji\n",
            "\u001b[?25l  Downloading https://files.pythonhosted.org/packages/40/8d/521be7f0091fe0f2ae690cc044faf43e3445e0ff33c574eae752dd7e39fa/emoji-0.5.4.tar.gz (43kB)\n",
            "\r\u001b[K     |███████▌                        | 10kB 12.6MB/s eta 0:00:01\r\u001b[K     |███████████████                 | 20kB 1.8MB/s eta 0:00:01\r\u001b[K     |██████████████████████▋         | 30kB 2.3MB/s eta 0:00:01\r\u001b[K     |██████████████████████████████▏ | 40kB 2.6MB/s eta 0:00:01\r\u001b[K     |████████████████████████████████| 51kB 1.7MB/s \n",
            "\u001b[?25hBuilding wheels for collected packages: emoji\n",
            "  Building wheel for emoji (setup.py) ... \u001b[?25l\u001b[?25hdone\n",
            "  Created wheel for emoji: filename=emoji-0.5.4-cp36-none-any.whl size=42176 sha256=779a07eb8caa35872030eed1ab701bbd051192b099947cba3c89ff55a705bae9\n",
            "  Stored in directory: /root/.cache/pip/wheels/2a/a9/0a/4f8e8cce8074232aba240caca3fade315bb49fac68808d1a9c\n",
            "Successfully built emoji\n",
            "Installing collected packages: emoji\n",
            "Successfully installed emoji-0.5.4\n"
          ],
          "name": "stdout"
        }
      ]
    },
    {
      "cell_type": "code",
      "metadata": {
        "id": "OYE2B1SfgSWw",
        "colab_type": "code",
        "colab": {
          "base_uri": "https://localhost:8080/",
          "height": 34
        },
        "outputId": "194c6d79-129a-4f47-eca5-a16b8760616c"
      },
      "source": [
        "from emoji import emojize\n",
        "print(emojize(\":thumbs_up:\"))"
      ],
      "execution_count": null,
      "outputs": [
        {
          "output_type": "stream",
          "text": [
            "👍\n"
          ],
          "name": "stdout"
        }
      ]
    },
    {
      "cell_type": "code",
      "metadata": {
        "id": "JWX4TGySgc55",
        "colab_type": "code",
        "colab": {
          "base_uri": "https://localhost:8080/",
          "height": 51
        },
        "outputId": "eeff8e5b-0c16-4b9a-dfcd-ff11fd053979"
      },
      "source": [
        "!pip install geopy"
      ],
      "execution_count": null,
      "outputs": [
        {
          "output_type": "stream",
          "text": [
            "Requirement already satisfied: geopy in /usr/local/lib/python3.6/dist-packages (1.17.0)\n",
            "Requirement already satisfied: geographiclib<2,>=1.49 in /usr/local/lib/python3.6/dist-packages (from geopy) (1.50)\n"
          ],
          "name": "stdout"
        }
      ]
    },
    {
      "cell_type": "code",
      "metadata": {
        "id": "DmGm80RJlihk",
        "colab_type": "code",
        "colab": {}
      },
      "source": [
        "from geopy import GoogleV3\n",
        "\n",
        "place = \"221b Baker Street, London\"\n",
        "location = GoogleV3(api_key).geocode(place)\n",
        "\n",
        "print(location.address)\n",
        "print(location.location)"
      ],
      "execution_count": null,
      "outputs": []
    },
    {
      "cell_type": "code",
      "metadata": {
        "id": "pRwJv-Mzl_1x",
        "colab_type": "code",
        "colab": {
          "base_uri": "https://localhost:8080/",
          "height": 445
        },
        "outputId": "b5a47a51-2dcd-46aa-b18e-9fd940acf8a9"
      },
      "source": [
        "pip install howdoi"
      ],
      "execution_count": null,
      "outputs": [
        {
          "output_type": "stream",
          "text": [
            "Collecting howdoi\n",
            "  Downloading https://files.pythonhosted.org/packages/03/db/c9b5bb64adac16b0feab7924fb1134ce88bc38f7af4e74aca27c48de26df/howdoi-1.2.1.tar.gz\n",
            "Collecting pyquery\n",
            "  Downloading https://files.pythonhosted.org/packages/78/43/95d42e386c61cb639d1a0b94f0c0b9f0b7d6b981ad3c043a836c8b5bc68b/pyquery-1.4.1-py2.py3-none-any.whl\n",
            "Requirement already satisfied: pygments in /usr/local/lib/python3.6/dist-packages (from howdoi) (2.1.3)\n",
            "Requirement already satisfied: requests in /usr/local/lib/python3.6/dist-packages (from howdoi) (2.23.0)\n",
            "Collecting cachelib\n",
            "  Downloading https://files.pythonhosted.org/packages/e6/fc/9c5571cf72ac3ea64ad5cd9d704c1000452cb483a6a3233357d8f3da6991/cachelib-0.1.1-py3-none-any.whl\n",
            "Collecting appdirs\n",
            "  Downloading https://files.pythonhosted.org/packages/3b/00/2344469e2084fb287c2e0b57b72910309874c3245463acd6cf5e3db69324/appdirs-1.4.4-py2.py3-none-any.whl\n",
            "Collecting cssselect>0.7.9\n",
            "  Downloading https://files.pythonhosted.org/packages/3b/d4/3b5c17f00cce85b9a1e6f91096e1cc8e8ede2e1be8e96b87ce1ed09e92c5/cssselect-1.1.0-py2.py3-none-any.whl\n",
            "Requirement already satisfied: lxml>=2.1 in /usr/local/lib/python3.6/dist-packages (from pyquery->howdoi) (4.2.6)\n",
            "Requirement already satisfied: idna<3,>=2.5 in /usr/local/lib/python3.6/dist-packages (from requests->howdoi) (2.9)\n",
            "Requirement already satisfied: certifi>=2017.4.17 in /usr/local/lib/python3.6/dist-packages (from requests->howdoi) (2020.6.20)\n",
            "Requirement already satisfied: urllib3!=1.25.0,!=1.25.1,<1.26,>=1.21.1 in /usr/local/lib/python3.6/dist-packages (from requests->howdoi) (1.24.3)\n",
            "Requirement already satisfied: chardet<4,>=3.0.2 in /usr/local/lib/python3.6/dist-packages (from requests->howdoi) (3.0.4)\n",
            "Building wheels for collected packages: howdoi\n",
            "  Building wheel for howdoi (setup.py) ... \u001b[?25l\u001b[?25hdone\n",
            "  Created wheel for howdoi: filename=howdoi-1.2.1-cp36-none-any.whl size=9541 sha256=13cd9e22cf074732c3f5b03966e596bff98142de33a0f8095a097886c2379bbb\n",
            "  Stored in directory: /root/.cache/pip/wheels/0f/48/7e/afc275bb678333796185d8efcffa3f3dc9dbd4984daf487b73\n",
            "Successfully built howdoi\n",
            "Installing collected packages: cssselect, pyquery, cachelib, appdirs, howdoi\n",
            "Successfully installed appdirs-1.4.4 cachelib-0.1.1 cssselect-1.1.0 howdoi-1.2.1 pyquery-1.4.1\n"
          ],
          "name": "stdout"
        }
      ]
    },
    {
      "cell_type": "code",
      "metadata": {
        "id": "Gf5JE8r-pedx",
        "colab_type": "code",
        "colab": {
          "base_uri": "https://localhost:8080/",
          "height": 85
        },
        "outputId": "f5caef0c-d41f-4e60-8acf-19d26ebb96b0"
      },
      "source": [
        "!howdoi 'for loop in java'"
      ],
      "execution_count": null,
      "outputs": [
        {
          "output_type": "stream",
          "text": [
            "for(String string : mCha) // line 1\n",
            "{\n",
            "  // loop working\n",
            "}\n"
          ],
          "name": "stdout"
        }
      ]
    },
    {
      "cell_type": "code",
      "metadata": {
        "id": "L2oDHEMPpotF",
        "colab_type": "code",
        "colab": {
          "base_uri": "https://localhost:8080/",
          "height": 204
        },
        "outputId": "9b0e8bfb-4359-4c32-f5a8-1f11caf0b34d"
      },
      "source": [
        "import inspect\n",
        "\n",
        "print('.getsource : ', inspect.getsource(inspect.getsource))\n",
        "print('.getmodule : ', inspect.getmodule(inspect.getmodule))\n",
        "print('.currentframe().f_lineno : ', inspect.currentframe().f_lineno)"
      ],
      "execution_count": null,
      "outputs": [
        {
          "output_type": "stream",
          "text": [
            ".getsource :  def getsource(object):\n",
            "    \"\"\"Return the text of the source code for an object.\n",
            "\n",
            "    The argument may be a module, class, method, function, traceback, frame,\n",
            "    or code object.  The source code is returned as a single string.  An\n",
            "    OSError is raised if the source code cannot be retrieved.\"\"\"\n",
            "    lines, lnum = getsourcelines(object)\n",
            "    return ''.join(lines)\n",
            "\n",
            ".getmodule :  <module 'inspect' from '/usr/lib/python3.6/inspect.py'>\n",
            ".currentframe().f_lineno :  5\n"
          ],
          "name": "stdout"
        }
      ]
    },
    {
      "cell_type": "code",
      "metadata": {
        "id": "jav3l-QNsE41",
        "colab_type": "code",
        "colab": {
          "base_uri": "https://localhost:8080/",
          "height": 51
        },
        "outputId": "0af1ed7a-6fcc-4cba-c472-7529827e6752"
      },
      "source": [
        "dictionary = {\"a\": 1, \"b\": 2}\n",
        "def someFunction(a, b):\n",
        "    return a + b\n",
        "\n",
        "# 아래의 두 코드는 같은 기능을 합니다\n",
        "print('First :', someFunction(**dictionary))\n",
        "print('Second :', someFunction(a=1, b=2))"
      ],
      "execution_count": null,
      "outputs": [
        {
          "output_type": "stream",
          "text": [
            "First : 3\n",
            "Second : 3\n"
          ],
          "name": "stdout"
        }
      ]
    },
    {
      "cell_type": "code",
      "metadata": {
        "id": "_q6q1i9It0ij",
        "colab_type": "code",
        "colab": {
          "base_uri": "https://localhost:8080/",
          "height": 51
        },
        "outputId": "0b07fd62-a71c-4788-85ec-9a1804c416da"
      },
      "source": [
        "numbers = [1, 2, 3, 4, 5, 6, 7]\n",
        "evens = [x for x in numbers if x % 2 is 0]\n",
        "odds = [x for x in numbers if x not in evens]\n",
        "\n",
        "print('evens : ', evens)\n",
        "print('odds : ', odds)"
      ],
      "execution_count": null,
      "outputs": [
        {
          "output_type": "stream",
          "text": [
            "evens :  [2, 4, 6]\n",
            "odds :  [1, 3, 5, 7]\n"
          ],
          "name": "stdout"
        }
      ]
    },
    {
      "cell_type": "code",
      "metadata": {
        "id": "4nAPKe5_wqDu",
        "colab_type": "code",
        "colab": {
          "base_uri": "https://localhost:8080/",
          "height": 68
        },
        "outputId": "99ff0f18-dcb2-4411-d969-806fdc6fa1a2"
      },
      "source": [
        "cities = ['London', 'Dublin', 'Oslo']\n",
        "\n",
        "def visit(city):\n",
        "    print(\"Welcome to \" + city)\n",
        "\n",
        "for city in cities:\n",
        "    visit(city)"
      ],
      "execution_count": null,
      "outputs": [
        {
          "output_type": "stream",
          "text": [
            "Welcome to London\n",
            "Welcome to Dublin\n",
            "Welcome to Oslo\n"
          ],
          "name": "stdout"
        }
      ]
    },
    {
      "cell_type": "code",
      "metadata": {
        "id": "zgQo8Jxgwq6_",
        "colab_type": "code",
        "colab": {
          "base_uri": "https://localhost:8080/",
          "height": 51
        },
        "outputId": "fd7bdb90-89b6-44de-d04a-e80b9fee084b"
      },
      "source": [
        "x = [1, 2, 3]\n",
        "func = lambda x : x + 1\n",
        "y = map(func, x)\n",
        "\n",
        "print(y)\n",
        "print(list(y))"
      ],
      "execution_count": null,
      "outputs": [
        {
          "output_type": "stream",
          "text": [
            "<map object at 0x7ff36035d128>\n",
            "[2, 3, 4]\n"
          ],
          "name": "stdout"
        }
      ]
    },
    {
      "cell_type": "code",
      "metadata": {
        "id": "qCwpy-nszJjN",
        "colab_type": "code",
        "colab": {
          "base_uri": "https://localhost:8080/",
          "height": 578
        },
        "outputId": "daa9f460-aceb-4f50-9844-28408facb663"
      },
      "source": [
        "import requests\n",
        "import pprint\n",
        "url = 'https://randomuser.me/api/?results=1'\n",
        "users = requests.get(url).json()\n",
        "pprint.pprint(users)"
      ],
      "execution_count": null,
      "outputs": [
        {
          "output_type": "stream",
          "text": [
            "{'info': {'page': 1,\n",
            "          'results': 1,\n",
            "          'seed': '04a21cea38e28ca5',\n",
            "          'version': '1.3'},\n",
            " 'results': [{'cell': '0493-876-419',\n",
            "              'dob': {'age': 25, 'date': '1995-01-31T11:38:28.160Z'},\n",
            "              'email': 'alex.silva@example.com',\n",
            "              'gender': 'male',\n",
            "              'id': {'name': 'TFN', 'value': '553157398'},\n",
            "              'location': {'city': 'Darwin',\n",
            "                           'coordinates': {'latitude': '-82.6980',\n",
            "                                           'longitude': '-113.2291'},\n",
            "                           'country': 'Australia',\n",
            "                           'postcode': 1664,\n",
            "                           'state': 'Queensland',\n",
            "                           'street': {'name': 'W Gray St', 'number': 5538},\n",
            "                           'timezone': {'description': 'Brazil, Buenos Aires, '\n",
            "                                                       'Georgetown',\n",
            "                                        'offset': '-3:00'}},\n",
            "              'login': {'md5': '6f0f525afc558932aebbc5a35218afdd',\n",
            "                        'password': 'gopher',\n",
            "                        'salt': 'MFzvGNMB',\n",
            "                        'sha1': '209e4a243078e10e4b8711024f788cd27c688569',\n",
            "                        'sha256': '81a77def6451d6e101907d75c81809f356830906444d939d6b76e415c481c8cc',\n",
            "                        'username': 'brownbear424',\n",
            "                        'uuid': '0d58e470-9865-48aa-b640-5e45d77bd119'},\n",
            "              'name': {'first': 'Alex', 'last': 'Silva', 'title': 'Mr'},\n",
            "              'nat': 'AU',\n",
            "              'phone': '08-4478-0159',\n",
            "              'picture': {'large': 'https://randomuser.me/api/portraits/men/35.jpg',\n",
            "                          'medium': 'https://randomuser.me/api/portraits/med/men/35.jpg',\n",
            "                          'thumbnail': 'https://randomuser.me/api/portraits/thumb/men/35.jpg'},\n",
            "              'registered': {'age': 13, 'date': '2007-02-23T21:21:53.229Z'}}]}\n"
          ],
          "name": "stdout"
        }
      ]
    },
    {
      "cell_type": "code",
      "metadata": {
        "id": "50Smdles2pgY",
        "colab_type": "code",
        "colab": {
          "base_uri": "https://localhost:8080/",
          "height": 34
        },
        "outputId": "df543c5f-ee98-48c0-c56e-87b7e658ca99"
      },
      "source": [
        "class someClass:\n",
        "    def __repr__(self):\n",
        "        return \"<some description here>\"\n",
        "\n",
        "someInstance = someClass()\n",
        "print(someInstance)"
      ],
      "execution_count": null,
      "outputs": [
        {
          "output_type": "stream",
          "text": [
            "<some description here>\n"
          ],
          "name": "stdout"
        }
      ]
    },
    {
      "cell_type": "code",
      "metadata": {
        "id": "zln0ZxwI9AmM",
        "colab_type": "code",
        "colab": {
          "base_uri": "https://localhost:8080/",
          "height": 122
        },
        "outputId": "f6aa7082-f4b8-4003-d258-5133dc276a05"
      },
      "source": [
        "!pip install sh"
      ],
      "execution_count": null,
      "outputs": [
        {
          "output_type": "stream",
          "text": [
            "Collecting sh\n",
            "\u001b[?25l  Downloading https://files.pythonhosted.org/packages/fa/9c/796934ee6d990d504c600056aa435e31bd49dbfba37e81d2045d37c8bdaf/sh-1.13.1-py2.py3-none-any.whl (40kB)\n",
            "\r\u001b[K     |████████▏                       | 10kB 14.3MB/s eta 0:00:01\r\u001b[K     |████████████████▎               | 20kB 1.7MB/s eta 0:00:01\r\u001b[K     |████████████████████████▍       | 30kB 2.3MB/s eta 0:00:01\r\u001b[K     |████████████████████████████████| 40kB 1.6MB/s \n",
            "\u001b[?25hInstalling collected packages: sh\n",
            "Successfully installed sh-1.13.1\n"
          ],
          "name": "stdout"
        }
      ]
    },
    {
      "cell_type": "code",
      "metadata": {
        "id": "YJ4TYkKP8BfO",
        "colab_type": "code",
        "colab": {
          "base_uri": "https://localhost:8080/",
          "height": 136
        },
        "outputId": "f7471eee-1a78-4153-c5db-ff1c405dbeef"
      },
      "source": [
        "import sh\n",
        "pwd = sh.pwd()\n",
        "ls = sh.ls('-l', './', color='never')\n",
        "\n",
        "print('[pwd]\\n', pwd)\n",
        "print('[ls -l]\\n', ls)"
      ],
      "execution_count": null,
      "outputs": [
        {
          "output_type": "stream",
          "text": [
            "[pwd]\n",
            " /content\n",
            "\n",
            "[ls -l]\n",
            " total 4\n",
            "drwxr-xr-x 1 root root 4096 Jun 26 16:26 sample_data\n",
            "\n"
          ],
          "name": "stdout"
        }
      ]
    },
    {
      "cell_type": "code",
      "metadata": {
        "id": "bzax0e1L8_uZ",
        "colab_type": "code",
        "colab": {}
      },
      "source": [
        "def addTwo(x : int) -> int:\n",
        "    return x + 2\n",
        "\n",
        "print(addTwo(3))\n",
        "print(addTwo('a'))"
      ],
      "execution_count": null,
      "outputs": []
    },
    {
      "cell_type": "code",
      "metadata": {
        "id": "XnzsD3cP_dfb",
        "colab_type": "code",
        "colab": {
          "base_uri": "https://localhost:8080/",
          "height": 34
        },
        "outputId": "665448ca-0ba2-4b63-b03b-f6016a34c4dc"
      },
      "source": [
        "import uuid\n",
        "\n",
        "user_id = uuid.uuid4()\n",
        "print(user_id)"
      ],
      "execution_count": null,
      "outputs": [
        {
          "output_type": "stream",
          "text": [
            "9f1db5bc-4fef-44b3-b87b-709c7fecadb8\n"
          ],
          "name": "stdout"
        }
      ]
    },
    {
      "cell_type": "code",
      "metadata": {
        "id": "LvcBKD5ODqtt",
        "colab_type": "code",
        "colab": {
          "base_uri": "https://localhost:8080/",
          "height": 292
        },
        "outputId": "1c1a7146-7b5e-407c-b9ed-26dd71511f0b"
      },
      "source": [
        "!pip install wikipedia"
      ],
      "execution_count": null,
      "outputs": [
        {
          "output_type": "stream",
          "text": [
            "Collecting wikipedia\n",
            "  Downloading https://files.pythonhosted.org/packages/67/35/25e68fbc99e672127cc6fbb14b8ec1ba3dfef035bf1e4c90f78f24a80b7d/wikipedia-1.4.0.tar.gz\n",
            "Requirement already satisfied: beautifulsoup4 in /usr/local/lib/python3.6/dist-packages (from wikipedia) (4.6.3)\n",
            "Requirement already satisfied: requests<3.0.0,>=2.0.0 in /usr/local/lib/python3.6/dist-packages (from wikipedia) (2.23.0)\n",
            "Requirement already satisfied: certifi>=2017.4.17 in /usr/local/lib/python3.6/dist-packages (from requests<3.0.0,>=2.0.0->wikipedia) (2020.6.20)\n",
            "Requirement already satisfied: chardet<4,>=3.0.2 in /usr/local/lib/python3.6/dist-packages (from requests<3.0.0,>=2.0.0->wikipedia) (3.0.4)\n",
            "Requirement already satisfied: urllib3!=1.25.0,!=1.25.1,<1.26,>=1.21.1 in /usr/local/lib/python3.6/dist-packages (from requests<3.0.0,>=2.0.0->wikipedia) (1.24.3)\n",
            "Requirement already satisfied: idna<3,>=2.5 in /usr/local/lib/python3.6/dist-packages (from requests<3.0.0,>=2.0.0->wikipedia) (2.9)\n",
            "Building wheels for collected packages: wikipedia\n",
            "  Building wheel for wikipedia (setup.py) ... \u001b[?25l\u001b[?25hdone\n",
            "  Created wheel for wikipedia: filename=wikipedia-1.4.0-cp36-none-any.whl size=11686 sha256=25a3041806ae3b4d5bf67a529e94cf9b3e218994d3e0ac5975820612ae22b0bd\n",
            "  Stored in directory: /root/.cache/pip/wheels/87/2a/18/4e471fd96d12114d16fe4a446d00c3b38fb9efcb744bd31f4a\n",
            "Successfully built wikipedia\n",
            "Installing collected packages: wikipedia\n",
            "Successfully installed wikipedia-1.4.0\n"
          ],
          "name": "stdout"
        }
      ]
    },
    {
      "cell_type": "code",
      "metadata": {
        "id": "1ovCKFh1Bc-e",
        "colab_type": "code",
        "colab": {
          "base_uri": "https://localhost:8080/",
          "height": 1000
        },
        "outputId": "c60005ea-a069-439b-ff28-09ad194673b3"
      },
      "source": [
        "import wikipedia\n",
        "\n",
        "result = wikipedia.page('freeCodeCamp')\n",
        "print(result.summary)\n",
        "\n",
        "for link in result.links:\n",
        "    print(link)"
      ],
      "execution_count": null,
      "outputs": [
        {
          "output_type": "stream",
          "text": [
            "freeCodeCamp (also referred to as “Free Code Camp”) is a non-profit organization that consists of an interactive learning web platform, an online community forum, chat rooms, online publications and local organizations that intend to make learning web development accessible to anyone. Beginning with tutorials that introduce students to HTML, CSS and JavaScript, students progress to project assignments that they complete either alone or in pairs. Upon completion of all project tasks, students are partnered with other nonprofits to build web applications, giving the students practical development experience.\n",
            "Academic Earth\n",
            "Alexa Internet\n",
            "Algorithm\n",
            "Alison (company)\n",
            "AngularJS\n",
            "Application programming interface\n",
            "BYJU'S\n",
            "Bootstrap (front-end framework)\n",
            "Cascading Style Sheets\n",
            "China Open Resources for Education\n",
            "Code School\n",
            "Codecademy\n",
            "Coursera\n",
            "Crash Course (YouTube)\n",
            "D3.js\n",
            "Data Visualization\n",
            "Data structure\n",
            "Duolingo\n",
            "EdX\n",
            "EduKart\n",
            "Edulanka\n",
            "Eliademy\n",
            "Express.js\n",
            "France Université Numérique\n",
            "FutureLearn\n",
            "Git\n",
            "HTML5\n",
            "IONISx\n",
            "Impostor syndrome\n",
            "Information security\n",
            "Iversity\n",
            "JQuery\n",
            "JavaScript\n",
            "KSL-TV\n",
            "Kadenze\n",
            "Khan Academy\n",
            "Kopernik (organization)\n",
            "LinkedIn Learning\n",
            "MITx\n",
            "MailChimp\n",
            "MasterClass\n",
            "Microservices\n",
            "MongoDB\n",
            "Node.js\n",
            "Nonprofit organization\n",
            "Nptel\n",
            "Online education\n",
            "Open-source\n",
            "OpenCourseWare\n",
            "OpenHPI\n",
            "OpenLearn\n",
            "OpenLearning\n",
            "Open Universities Australia\n",
            "P2PU\n",
            "Pair programming\n",
            "Pluralsight\n",
            "Quality assurance\n",
            "Quipper (company)\n",
            "React (JavaScript library)\n",
            "Responsive Web Design\n",
            "Ruangguru\n",
            "SWAYAM\n",
            "San Francisco, California\n",
            "Sass (stylesheet language)\n",
            "Shaw Academy\n",
            "Skillshare\n",
            "Stanford\n",
            "Udacity\n",
            "Udemy\n",
            "University of the People\n",
            "Web development\n",
            "Woz U\n"
          ],
          "name": "stdout"
        }
      ]
    },
    {
      "cell_type": "code",
      "metadata": {
        "id": "I58Rs3jsDqES",
        "colab_type": "code",
        "colab": {
          "base_uri": "https://localhost:8080/",
          "height": 85
        },
        "outputId": "25b46a41-8a24-4d89-df9a-f25394465779"
      },
      "source": [
        "keys = ['a', 'b', 'c']\n",
        "vals = [1, 2, 3]\n",
        "\n",
        "zipped = zip(keys, vals)\n",
        "dicted = dict(zipped)\n",
        "\n",
        "print('type of zipped : ', type(zipped))\n",
        "print('type of dicted : ', type(dicted))\n",
        "print('zipped : ', zipped)\n",
        "print('dicted : ', dicted)"
      ],
      "execution_count": null,
      "outputs": [
        {
          "output_type": "stream",
          "text": [
            "type of zipped :  <class 'zip'>\n",
            "type of dicted :  <class 'dict'>\n",
            "zipped :  <zip object at 0x7ff35e6e7448>\n",
            "dicted :  {'a': 1, 'b': 2, 'c': 3}\n"
          ],
          "name": "stdout"
        }
      ]
    },
    {
      "cell_type": "code",
      "metadata": {
        "id": "PsNJFf9IG64e",
        "colab_type": "code",
        "colab": {
          "base_uri": "https://localhost:8080/",
          "height": 34
        },
        "outputId": "a2438424-4344-46c4-a2b6-57b06d3513a3"
      },
      "source": [
        "func = lambda x : x % 2 == 0\n",
        "x = [1, 2, 3, 4, 5, 6, 7]\n",
        "y = list(filter(func, x))\n",
        "\n",
        "print(y)"
      ],
      "execution_count": 2,
      "outputs": [
        {
          "output_type": "stream",
          "text": [
            "[2, 4, 6]\n"
          ],
          "name": "stdout"
        }
      ]
    },
    {
      "cell_type": "code",
      "metadata": {
        "id": "FDr5ivHm-9eO",
        "colab_type": "code",
        "colab": {}
      },
      "source": [
        ""
      ],
      "execution_count": null,
      "outputs": []
    }
  ]
}