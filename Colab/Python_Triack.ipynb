{
  "nbformat": 4,
  "nbformat_minor": 0,
  "metadata": {
    "colab": {
      "name": "Python Triack.ipynb",
      "provenance": [],
      "authorship_tag": "ABX9TyNop3FQVcBIH4/cBOnw3+1z",
      "include_colab_link": true
    },
    "kernelspec": {
      "name": "python3",
      "display_name": "Python 3"
    }
  },
  "cells": [
    {
      "cell_type": "markdown",
      "metadata": {
        "id": "view-in-github",
        "colab_type": "text"
      },
      "source": [
        "<a href=\"https://colab.research.google.com/github/AhnJG/AI-Project/blob/master/Colab/Python_Triack.ipynb\" target=\"_parent\"><img src=\"https://colab.research.google.com/assets/colab-badge.svg\" alt=\"Open In Colab\"/></a>"
      ]
    },
    {
      "cell_type": "code",
      "metadata": {
        "id": "PlDUvdRogDry",
        "colab_type": "code",
        "colab": {
          "base_uri": "https://localhost:8080/",
          "height": 33
        },
        "outputId": "b2fa3af1-e4e8-4d23-fe8a-1862245010a6"
      },
      "source": [
        "# Swapping Values\n",
        "a, b = 5, 10\n",
        "a, b = b, a\n",
        "\n",
        "print(a, b)"
      ],
      "execution_count": 1,
      "outputs": [
        {
          "output_type": "stream",
          "text": [
            "10 5\n"
          ],
          "name": "stdout"
        }
      ]
    },
    {
      "cell_type": "code",
      "metadata": {
        "id": "NY62zailgKwI",
        "colab_type": "code",
        "colab": {
          "base_uri": "https://localhost:8080/",
          "height": 33
        },
        "outputId": "06426e97-aebd-439a-9bee-cbe62698e911"
      },
      "source": [
        "# Reverse String\n",
        "a = 'abcdefghijklmnopqrstuvwxyz'\n",
        "a = a[::-1]\n",
        "print(a)"
      ],
      "execution_count": 3,
      "outputs": [
        {
          "output_type": "stream",
          "text": [
            "zyxwvutsrqponmlkjihgfedcba\n"
          ],
          "name": "stdout"
        }
      ]
    },
    {
      "cell_type": "code",
      "metadata": {
        "id": "vtxgFGNZgZD8",
        "colab_type": "code",
        "colab": {
          "base_uri": "https://localhost:8080/",
          "height": 33
        },
        "outputId": "28d25db2-e14f-4b58-bac3-5af378eacc5d"
      },
      "source": [
        "# Reverse Integer\n",
        "num = 123456789\n",
        "num = int(str(num)[::-1])\n",
        "print(num)"
      ],
      "execution_count": 4,
      "outputs": [
        {
          "output_type": "stream",
          "text": [
            "987654321\n"
          ],
          "name": "stdout"
        }
      ]
    },
    {
      "cell_type": "code",
      "metadata": {
        "id": "xT2xYKowgzid",
        "colab_type": "code",
        "colab": {
          "base_uri": "https://localhost:8080/",
          "height": 50
        },
        "outputId": "4f672064-3b2e-4bc8-f499-4db9a31dd229"
      },
      "source": [
        "# Chained Comparison\n",
        "a = 7\n",
        "print(5 < a < 8)\n",
        "print(1 == a < 10)"
      ],
      "execution_count": 5,
      "outputs": [
        {
          "output_type": "stream",
          "text": [
            "True\n",
            "False\n"
          ],
          "name": "stdout"
        }
      ]
    },
    {
      "cell_type": "code",
      "metadata": {
        "id": "UkPA_j0JhpEi",
        "colab_type": "code",
        "colab": {
          "base_uri": "https://localhost:8080/",
          "height": 33
        },
        "outputId": "3982d2c6-c2ac-4d90-cd11-67d837b0e0a2"
      },
      "source": [
        "# Chained Function call\n",
        "def product(a, b):\n",
        "    return a*b\n",
        "\n",
        "def add(a, b):\n",
        "    return a+b\n",
        "\n",
        "a = True\n",
        "print((product if a else add)(4, 5))"
      ],
      "execution_count": 6,
      "outputs": [
        {
          "output_type": "stream",
          "text": [
            "20\n"
          ],
          "name": "stdout"
        }
      ]
    },
    {
      "cell_type": "code",
      "metadata": {
        "id": "H5pgJJs1iFVW",
        "colab_type": "code",
        "colab": {
          "base_uri": "https://localhost:8080/",
          "height": 33
        },
        "outputId": "19cbc811-0004-43d0-b876-c359560c3605"
      },
      "source": [
        "# Sort Dictionary by Value\n",
        "d = {'apple': 10, 'orange': 20, 'banana': 5, 'rotten tomato': 1}\n",
        "d = sorted(d.items(), key=lambda x: x[1])\n",
        "\n",
        "print(d)"
      ],
      "execution_count": 7,
      "outputs": [
        {
          "output_type": "stream",
          "text": [
            "[('rotten tomato', 1), ('banana', 5), ('apple', 10), ('orange', 20)]\n"
          ],
          "name": "stdout"
        }
      ]
    },
    {
      "cell_type": "code",
      "metadata": {
        "id": "9ZVKS2Xii45_",
        "colab_type": "code",
        "colab": {
          "base_uri": "https://localhost:8080/",
          "height": 66
        },
        "outputId": "f0ce0f60-5243-4d2d-89d2-fba760858439"
      },
      "source": [
        "# Merge Dict\n",
        "d1 = {'a': 1}\n",
        "d2 = {'b': 2}\n",
        "\n",
        "print({**d1, **d2})\n",
        "print(dict(d1.items() | d2.items()))\n",
        "\n",
        "d1.update(d2)\n",
        "print(d1)"
      ],
      "execution_count": 11,
      "outputs": [
        {
          "output_type": "stream",
          "text": [
            "{'a': 1, 'b': 2}\n",
            "{'a': 1, 'b': 2}\n",
            "{'a': 1, 'b': 2}\n"
          ],
          "name": "stdout"
        }
      ]
    },
    {
      "cell_type": "code",
      "metadata": {
        "id": "bb2cpwC-jUlO",
        "colab_type": "code",
        "colab": {
          "base_uri": "https://localhost:8080/",
          "height": 33
        },
        "outputId": "44f78b40-4683-4e21-9c48-01ee95e6dc15"
      },
      "source": [
        "d1.items()"
      ],
      "execution_count": 10,
      "outputs": [
        {
          "output_type": "execute_result",
          "data": {
            "text/plain": [
              "dict_items([('a', 1)])"
            ]
          },
          "metadata": {
            "tags": []
          },
          "execution_count": 10
        }
      ]
    },
    {
      "cell_type": "code",
      "metadata": {
        "id": "enaZ34r9jbki",
        "colab_type": "code",
        "colab": {}
      },
      "source": [
        ""
      ],
      "execution_count": null,
      "outputs": []
    }
  ]
}