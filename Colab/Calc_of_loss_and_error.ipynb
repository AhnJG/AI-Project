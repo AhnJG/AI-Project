{
  "nbformat": 4,
  "nbformat_minor": 0,
  "metadata": {
    "colab": {
      "name": "Calc of loss and error.ipynb",
      "provenance": [],
      "authorship_tag": "ABX9TyOOg68ghsBj9TtR3xd+/e+8",
      "include_colab_link": true
    },
    "kernelspec": {
      "name": "python3",
      "display_name": "Python 3"
    }
  },
  "cells": [
    {
      "cell_type": "markdown",
      "metadata": {
        "id": "view-in-github",
        "colab_type": "text"
      },
      "source": [
        "<a href=\"https://colab.research.google.com/github/AhnJG/AI-Project/blob/master/Colab/Calc_of_loss_and_error.ipynb\" target=\"_parent\"><img src=\"https://colab.research.google.com/assets/colab-badge.svg\" alt=\"Open In Colab\"/></a>"
      ]
    },
    {
      "cell_type": "code",
      "metadata": {
        "id": "VIScbmnszBbb",
        "colab_type": "code",
        "colab": {}
      },
      "source": [
        "import tensorflow as tf"
      ],
      "execution_count": 1,
      "outputs": []
    },
    {
      "cell_type": "code",
      "metadata": {
        "id": "jWG6oan6zEs9",
        "colab_type": "code",
        "colab": {
          "base_uri": "https://localhost:8080/",
          "height": 33
        },
        "outputId": "8e47efac-8872-4e8d-cb9c-e4a92447352b"
      },
      "source": [
        "# sparse_categorical_crossentropy\n",
        "y_true = [1, 2]\n",
        "y_pred = [[0.05, 0.95, 0], [0.1, 0.8, 0.1]]\n",
        "loss = tf.keras.losses.sparse_categorical_crossentropy(y_true, y_pred)\n",
        "print(loss)"
      ],
      "execution_count": 2,
      "outputs": [
        {
          "output_type": "stream",
          "text": [
            "tf.Tensor([0.05129344 2.3025851 ], shape=(2,), dtype=float32)\n"
          ],
          "name": "stdout"
        }
      ]
    },
    {
      "cell_type": "code",
      "metadata": {
        "id": "9a6kVXugzYQr",
        "colab_type": "code",
        "colab": {
          "base_uri": "https://localhost:8080/",
          "height": 33
        },
        "outputId": "fd201ca3-1014-4079-f55b-4d766028042f"
      },
      "source": [
        "# categorical_crossentropy\n",
        "y_true = [[0, 1, 0], [0, 0, 1]]\n",
        "y_pred = [[0.05, 0.95, 0], [0.1, 0.8, 0.1]]\n",
        "loss = tf.keras.losses.categorical_crossentropy(y_true, y_pred)\n",
        "print(loss)"
      ],
      "execution_count": 6,
      "outputs": [
        {
          "output_type": "stream",
          "text": [
            "tf.Tensor([0.05129331 2.3025851 ], shape=(2,), dtype=float32)\n"
          ],
          "name": "stdout"
        }
      ]
    },
    {
      "cell_type": "code",
      "metadata": {
        "id": "_7tO57PF0HbS",
        "colab_type": "code",
        "colab": {
          "base_uri": "https://localhost:8080/",
          "height": 33
        },
        "outputId": "f478f159-3ea4-4403-fd74-1df205a19938"
      },
      "source": [
        "y_true = [[0, 1, 0], [0, 0.5, 0.5]]\n",
        "y_pred = [[0.05, 0.95, 0], [0.02, 0.49, 0.49]]\n",
        "loss = tf.keras.losses.categorical_crossentropy(y_true, y_pred)\n",
        "print(loss)"
      ],
      "execution_count": 11,
      "outputs": [
        {
          "output_type": "stream",
          "text": [
            "tf.Tensor([0.05129331 0.7133499 ], shape=(2,), dtype=float32)\n"
          ],
          "name": "stdout"
        }
      ]
    },
    {
      "cell_type": "code",
      "metadata": {
        "id": "cyd36STc1NM2",
        "colab_type": "code",
        "colab": {
          "base_uri": "https://localhost:8080/",
          "height": 50
        },
        "outputId": "54480c5e-ef12-4812-fb88-48a46ebd98b1"
      },
      "source": [
        "import numpy as np\n",
        "from sklearn.metrics import mean_squared_error, mean_squared_log_error\n",
        "\n",
        "y_true = [60, 80, 90]\n",
        "y_pred = [67, 78, 91]\n",
        "RMSE = np.sqrt(mean_squared_error(y_true, y_pred))\n",
        "print(\"RMSE :\", RMSE)\n",
        "\n",
        "RMSLE = np.sqrt(mean_squared_log_error(y_true, y_pred))\n",
        "print(\"RMSLE :\", RMSLE)"
      ],
      "execution_count": 16,
      "outputs": [
        {
          "output_type": "stream",
          "text": [
            "RMSE : 4.242640687119285\n",
            "RMSLE : 0.0646679237996832\n"
          ],
          "name": "stdout"
        }
      ]
    },
    {
      "cell_type": "code",
      "metadata": {
        "id": "2zPTIjqGEzd6",
        "colab_type": "code",
        "colab": {
          "base_uri": "https://localhost:8080/",
          "height": 50
        },
        "outputId": "a14cb8aa-d1cf-4376-8ae0-10376cd6e466"
      },
      "source": [
        "import numpy as np\n",
        "from sklearn.metrics import mean_squared_error, mean_squared_log_error\n",
        "\n",
        "y_true = [60, 80, 90, 750]\n",
        "y_pred = [67, 78, 91, 102]\n",
        "RMSE = np.sqrt(mean_squared_error(y_true, y_pred))\n",
        "print(\"RMSE :\", RMSE)\n",
        "\n",
        "RMSLE = np.sqrt(mean_squared_log_error(y_true, y_pred))\n",
        "print(\"RMSLE :\", RMSLE)"
      ],
      "execution_count": 19,
      "outputs": [
        {
          "output_type": "stream",
          "text": [
            "RMSE : 324.02083266358045\n",
            "RMSLE : 0.9949158238939428\n"
          ],
          "name": "stdout"
        }
      ]
    },
    {
      "cell_type": "code",
      "metadata": {
        "id": "xhNj6WG9Fx1G",
        "colab_type": "code",
        "colab": {
          "base_uri": "https://localhost:8080/",
          "height": 50
        },
        "outputId": "3ee42e56-20f7-42a1-e491-471809557425"
      },
      "source": [
        "y_true = [90]\n",
        "y_pred = [100]\n",
        "RMSE = np.sqrt(mean_squared_error(y_true, y_pred))\n",
        "print(\"RMSE :\", RMSE)\n",
        "\n",
        "RMSLE = np.sqrt(mean_squared_log_error(y_true, y_pred))\n",
        "print(\"RMSLE :\", RMSLE)"
      ],
      "execution_count": 20,
      "outputs": [
        {
          "output_type": "stream",
          "text": [
            "RMSE : 10.0\n",
            "RMSLE : 0.10426101032440993\n"
          ],
          "name": "stdout"
        }
      ]
    },
    {
      "cell_type": "code",
      "metadata": {
        "id": "-BWWMH8DHqI-",
        "colab_type": "code",
        "colab": {
          "base_uri": "https://localhost:8080/",
          "height": 50
        },
        "outputId": "e7b2ed20-340a-46ae-a595-208b0cdd3e96"
      },
      "source": [
        "y_true = [9000]\n",
        "y_pred = [10000]\n",
        "RMSE = np.sqrt(mean_squared_error(y_true, y_pred))\n",
        "print(\"RMSE :\", RMSE)\n",
        "\n",
        "RMSLE = np.sqrt(mean_squared_log_error(y_true, y_pred))\n",
        "print(\"RMSLE :\", RMSLE)"
      ],
      "execution_count": 21,
      "outputs": [
        {
          "output_type": "stream",
          "text": [
            "RMSE : 1000.0\n",
            "RMSLE : 0.10534940571943174\n"
          ],
          "name": "stdout"
        }
      ]
    },
    {
      "cell_type": "code",
      "metadata": {
        "id": "m544Os3YH1U7",
        "colab_type": "code",
        "colab": {
          "base_uri": "https://localhost:8080/",
          "height": 50
        },
        "outputId": "4e5ee44b-5a4e-4ac1-d1f8-617dedc40d6f"
      },
      "source": [
        "y_true = [1000]\n",
        "y_pred = [600]\n",
        "RMSE = np.sqrt(mean_squared_error(y_true, y_pred))\n",
        "print(\"RMSE :\", RMSE)\n",
        "\n",
        "RMSLE = np.sqrt(mean_squared_log_error(y_true, y_pred))\n",
        "print(\"RMSLE :\", RMSLE)"
      ],
      "execution_count": 22,
      "outputs": [
        {
          "output_type": "stream",
          "text": [
            "RMSE : 400.0\n",
            "RMSLE : 0.5101598447800129\n"
          ],
          "name": "stdout"
        }
      ]
    },
    {
      "cell_type": "code",
      "metadata": {
        "id": "o4-fISCRJREo",
        "colab_type": "code",
        "colab": {
          "base_uri": "https://localhost:8080/",
          "height": 50
        },
        "outputId": "2c4d61d2-139d-42f1-dfa5-83f8984faa5b"
      },
      "source": [
        "y_true = [1000]\n",
        "y_pred = [1400]\n",
        "RMSE = np.sqrt(mean_squared_error(y_true, y_pred))\n",
        "print(\"RMSE :\", RMSE)\n",
        "\n",
        "RMSLE = np.sqrt(mean_squared_log_error(y_true, y_pred))\n",
        "print(\"RMSLE :\", RMSLE)"
      ],
      "execution_count": 23,
      "outputs": [
        {
          "output_type": "stream",
          "text": [
            "RMSE : 400.0\n",
            "RMSLE : 0.3361867670217862\n"
          ],
          "name": "stdout"
        }
      ]
    },
    {
      "cell_type": "code",
      "metadata": {
        "id": "37KdfiaDJSWM",
        "colab_type": "code",
        "colab": {
          "base_uri": "https://localhost:8080/",
          "height": 33
        },
        "outputId": "a1e1e799-f6aa-4567-9e48-7a0b4507f433"
      },
      "source": [
        "y_true = [10000000000]\n",
        "y_pred = [100000000]\n",
        "\n",
        "RMSLE = np.sqrt(mean_squared_log_error(y_true, y_pred))\n",
        "print(\"RMSLE :\", RMSLE)"
      ],
      "execution_count": 26,
      "outputs": [
        {
          "output_type": "stream",
          "text": [
            "RMSLE : 4.605170176088091\n"
          ],
          "name": "stdout"
        }
      ]
    },
    {
      "cell_type": "code",
      "metadata": {
        "id": "EIuLuuT7MziL",
        "colab_type": "code",
        "colab": {}
      },
      "source": [
        ""
      ],
      "execution_count": null,
      "outputs": []
    }
  ]
}