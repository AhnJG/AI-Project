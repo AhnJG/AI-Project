{
 "cells": [
  {
   "cell_type": "code",
   "execution_count": 26,
   "metadata": {},
   "outputs": [],
   "source": [
    "#Opencv Python - Similarity score from Feature matching + Homograpy\n",
    "#https://answers.opencv.org/question/60350/opencv-python-similarity-score-from-feature-matching-homograpy/\n",
    "#Homography : http://www.gisdeveloper.co.kr/?p=6832\n",
    "\n",
    "import cv2\n",
    "import numpy as np\n",
    "import os"
   ]
  },
  {
   "cell_type": "code",
   "execution_count": 48,
   "metadata": {},
   "outputs": [],
   "source": [
    "def feature_matcher(query_image, image_folder):\n",
    "\n",
    "    min_match_count = 10\n",
    "\n",
    "    img1 = cv2.imread(query_image, 0)\n",
    "    surf = cv2.xfeatures2d.SURF_create(800)\n",
    "    kp1, des1 = surf.detectAndCompute(img1, None)\n",
    "\n",
    "    bf = cv2.BFMatcher(cv2.NORM_L2)\n",
    "\n",
    "    path_files = os.getcwd()\n",
    "    all_files = next(os.walk('.'+image_folder))[2]\n",
    "#    print(path_files + all_files[0])\n",
    "    \n",
    "    for file_name_temp in all_files:\n",
    "        try:\n",
    "            train_image = path_files + image_folder + '/' + file_name_temp\n",
    "            print(train_image)\n",
    "            \n",
    "            t = cv2.imread(train_image, cv2.IMREAD_COLOR)\n",
    "            cv2.imshow('test', t)\n",
    "            cv2.waitKey(0)\n",
    "            cv2.destroyAllWindows()\n",
    "            cv2.waitKey(1)\n",
    "            \n",
    "            img2 = cv2.imread(train_image, 0)\n",
    "            surf = cv2.xfeatures2d.SURF_create(800)\n",
    "            kp2, des2 = surf.detectAndCompute(img2, None)\n",
    "\n",
    "            matches = bf.knnMatch(des1, des2, k=2)\n",
    "\n",
    "            good = []\n",
    "            for m, n in matches:\n",
    "                if m.distance < 0.7*n.distance:\n",
    "                    good.append(m)\n",
    "\n",
    "            if len(good) > min_match_count:\n",
    "\n",
    "                src_pts = np.float32([kp1[m.queryIdx].pt for m in good]).reshape(-1,1,2)\n",
    "                dst_pts = np.float32([kp2[m.trainIdx].pt for m in good]).reshape(-1,1,2)\n",
    "\n",
    "                M, mask = cv2.findHomography(src_pts, dst_pts, cv2.RANSAC, 5.0)\n",
    "\n",
    "                matchesMask = mask.ravel().tolist()\n",
    "\n",
    "                h, w = img1.shape\n",
    "                pts = np.float32([[0, 0], [0, h-1], [w-1, h-1], [w-1, 0]]).reshape(-1,1,2)\n",
    "                dst = cv2.perspectiveTransform(pts, M)\n",
    "\n",
    "                if not M==None:\n",
    "                    print()\n",
    "                    print(\"-\" * 2, file_name_temp)\n",
    "                    print(\"number of good matches\", len(good))\n",
    "                    print(\"*\" * 10, matchesMask)\n",
    "\n",
    "        except Exception as ex: # 에러 종류\n",
    "            print('에러가 발생 했습니다', ex)\n",
    "                    "
   ]
  },
  {
   "cell_type": "code",
   "execution_count": 49,
   "metadata": {},
   "outputs": [
    {
     "name": "stdout",
     "output_type": "stream",
     "text": [
      "/Users/ahn/Documents/AI-Project/similarity score/image/train/img36.png\n",
      "/Users/ahn/Documents/AI-Project/similarity score/image/train/img22.png\n",
      "/Users/ahn/Documents/AI-Project/similarity score/image/train/img119.png\n",
      "/Users/ahn/Documents/AI-Project/similarity score/image/train/img125.png\n",
      "/Users/ahn/Documents/AI-Project/similarity score/image/train/img131.png\n",
      "/Users/ahn/Documents/AI-Project/similarity score/image/train/img253.png\n",
      "/Users/ahn/Documents/AI-Project/similarity score/image/train/img247.png\n",
      "/Users/ahn/Documents/AI-Project/similarity score/image/train/img290.png\n"
     ]
    },
    {
     "ename": "KeyboardInterrupt",
     "evalue": "",
     "output_type": "error",
     "traceback": [
      "\u001b[0;31m---------------------------------------------------------------------------\u001b[0m",
      "\u001b[0;31mKeyboardInterrupt\u001b[0m                         Traceback (most recent call last)",
      "\u001b[0;32m<ipython-input-49-9a12d7af973e>\u001b[0m in \u001b[0;36m<module>\u001b[0;34m()\u001b[0m\n\u001b[1;32m      5\u001b[0m \u001b[0;31m#query_image = './image/test/img8.png'\u001b[0m\u001b[0;34m\u001b[0m\u001b[0;34m\u001b[0m\u001b[0m\n\u001b[1;32m      6\u001b[0m \u001b[0mimage_folder\u001b[0m \u001b[0;34m=\u001b[0m \u001b[0;34m'/image/train'\u001b[0m\u001b[0;34m\u001b[0m\u001b[0m\n\u001b[0;32m----> 7\u001b[0;31m \u001b[0mfeature_matcher\u001b[0m\u001b[0;34m(\u001b[0m\u001b[0mquery_image\u001b[0m\u001b[0;34m,\u001b[0m \u001b[0mimage_folder\u001b[0m\u001b[0;34m)\u001b[0m\u001b[0;34m\u001b[0m\u001b[0m\n\u001b[0m",
      "\u001b[0;32m<ipython-input-48-ad23735c05c8>\u001b[0m in \u001b[0;36mfeature_matcher\u001b[0;34m(query_image, image_folder)\u001b[0m\n\u001b[1;32m     20\u001b[0m             \u001b[0mt\u001b[0m \u001b[0;34m=\u001b[0m \u001b[0mcv2\u001b[0m\u001b[0;34m.\u001b[0m\u001b[0mimread\u001b[0m\u001b[0;34m(\u001b[0m\u001b[0mtrain_image\u001b[0m\u001b[0;34m,\u001b[0m \u001b[0mcv2\u001b[0m\u001b[0;34m.\u001b[0m\u001b[0mIMREAD_COLOR\u001b[0m\u001b[0;34m)\u001b[0m\u001b[0;34m\u001b[0m\u001b[0m\n\u001b[1;32m     21\u001b[0m             \u001b[0mcv2\u001b[0m\u001b[0;34m.\u001b[0m\u001b[0mimshow\u001b[0m\u001b[0;34m(\u001b[0m\u001b[0;34m'test'\u001b[0m\u001b[0;34m,\u001b[0m \u001b[0mt\u001b[0m\u001b[0;34m)\u001b[0m\u001b[0;34m\u001b[0m\u001b[0m\n\u001b[0;32m---> 22\u001b[0;31m             \u001b[0mcv2\u001b[0m\u001b[0;34m.\u001b[0m\u001b[0mwaitKey\u001b[0m\u001b[0;34m(\u001b[0m\u001b[0;36m0\u001b[0m\u001b[0;34m)\u001b[0m\u001b[0;34m\u001b[0m\u001b[0m\n\u001b[0m\u001b[1;32m     23\u001b[0m             \u001b[0mcv2\u001b[0m\u001b[0;34m.\u001b[0m\u001b[0mdestroyAllWindows\u001b[0m\u001b[0;34m(\u001b[0m\u001b[0;34m)\u001b[0m\u001b[0;34m\u001b[0m\u001b[0m\n\u001b[1;32m     24\u001b[0m             \u001b[0mcv2\u001b[0m\u001b[0;34m.\u001b[0m\u001b[0mwaitKey\u001b[0m\u001b[0;34m(\u001b[0m\u001b[0;36m1\u001b[0m\u001b[0;34m)\u001b[0m\u001b[0;34m\u001b[0m\u001b[0m\n",
      "\u001b[0;31mKeyboardInterrupt\u001b[0m: "
     ]
    }
   ],
   "source": [
    "# query_image = '/home/zealous/Pictures/train_images/AbudefdufWhitleyiJER.jpg'\n",
    "# trained_image_folder = '/home/zealous/Pictures/train_images'\n",
    "\n",
    "query_image = './image/test/img0.png'\n",
    "#query_image = './image/test/img8.png'\n",
    "image_folder = '/image/train'\n",
    "feature_matcher(query_image, image_folder)"
   ]
  },
  {
   "cell_type": "code",
   "execution_count": null,
   "metadata": {},
   "outputs": [],
   "source": []
  }
 ],
 "metadata": {
  "kernelspec": {
   "display_name": "Python 3",
   "language": "python",
   "name": "python3"
  },
  "language_info": {
   "codemirror_mode": {
    "name": "ipython",
    "version": 3
   },
   "file_extension": ".py",
   "mimetype": "text/x-python",
   "name": "python",
   "nbconvert_exporter": "python",
   "pygments_lexer": "ipython3",
   "version": "3.5.6"
  }
 },
 "nbformat": 4,
 "nbformat_minor": 2
}
