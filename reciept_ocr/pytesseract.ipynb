{
 "cells": [
  {
   "cell_type": "code",
   "execution_count": 25,
   "metadata": {},
   "outputs": [],
   "source": [
    "# OCR - Tesseract\n",
    "\n",
    "from PIL import Image\n",
    "import pytesseract\n",
    "import cv2"
   ]
  },
  {
   "cell_type": "code",
   "execution_count": 28,
   "metadata": {},
   "outputs": [
    {
     "name": "stdout",
     "output_type": "stream",
     "text": [
      "0 1<신용승인     a2 = Ee\n",
      "단말기 : 16479790148 이    전표본  :          :\n",
      "가맹점 : 김태준의 탕탕         cee\n",
      "가 도] 아아아 이구 하동로4질 12, ㅣ2층(논현동)\n",
      "대표자 ： 김태준              aed\n",
      "사업자 : 536-37-00183       TEL : 02-5 11-3235\n",
      "\n",
      "  \n",
      "  \n",
      "  \n",
      " \n",
      " \n",
      "  \n",
      "                                                                                                                                                                                                                                                                 \n",
      "                                                                                                                                                                                                                                                                 \n",
      "                                                                                                                                                                                                                                                                  \n",
      "\n",
      " \n",
      "\n",
      "글    oH                  6,818  2\n",
      "7b «ll                 682\n",
      "aot              7. 500 원\n",
      "TEBE Es | AL FE\n",
      "\n",
      "： 카드번호 : 6250-03**-*…*-4903(6)      일시불\n",
      "\n",
      " \n",
      "\n",
      "거래일시 : 2018/01/30 12.46:24\n",
      "Swe : 72110079\n",
      "\n",
      ".       매일 : 비씨카드사 가맹 : 790606607\n",
      "알림 : 600매출표\n",
      "\n",
      " \n",
      "\n",
      "문의 : ]티)1544-4700\n",
      "\n",
      "* 감사합니다 *\n",
      "N617021027/2.05/261702 15/0510\n"
     ]
    }
   ],
   "source": [
    "# https://blog.naver.com/PostView.nhn?blogId=tommybee&logNo=221307497468&parentCategoryNo=&categoryNo=54&viewDate=&isShowPopularPosts=true&from=search\n",
    "# Define config parameters.\n",
    "# '-l eng'  for using the English language\n",
    "# '--oem 1' for using LSTM OCR Engine\n",
    "# config1 = ('-l kor+eng --oem 1 --psm 3')\n",
    "config2 = ('-l kor --oem 2 --psm 3')\n",
    "\n",
    "def ocr_tesseract():\n",
    "    try:\n",
    "        image_file = 'images/reciept1.jpg'\n",
    "        img = cv2.imread(image_file)\n",
    "        \n",
    "        text = pytesseract.image_to_string(img, config=config)\n",
    "        cv2.imshow('img', img)\n",
    "\n",
    "        cv2.waitKey(0)\n",
    "        cv2.destroyAllWindows()\n",
    "        cv2.waitKey(1)\n",
    "\n",
    "        print(text)\n",
    "#         print(type(text))\n",
    "#         print(text.replace(\" \", String.empty))\n",
    "#         print(text.Replace(\" \", String.Empty).Replace(\"\\n\", String.Empty))\n",
    "    except Exception as ex:\n",
    "        print('ERROR:', ex)\n",
    "        \n",
    "def preprocessing(img):\n",
    "    #그레이 스케일 변환\n",
    "    gray = cv2.cvtColor(img, cv2.COLOR_BGR2GRAY)\n",
    "    \n",
    "    #배경에서 전경 텍스트를 분할하기 위해 임계값을 사용\n",
    "    gray = cv2.threshold(gray, 0, 255, cv2.THRESH_BINARY | cv2.THRESH_OTSU)[1]\n",
    "    \n",
    "    return gray\n",
    "    \n",
    "if __name__ == '__main__':\n",
    "    ocr_tesseract()"
   ]
  },
  {
   "cell_type": "code",
   "execution_count": null,
   "metadata": {},
   "outputs": [],
   "source": []
  },
  {
   "cell_type": "code",
   "execution_count": null,
   "metadata": {},
   "outputs": [],
   "source": []
  }
 ],
 "metadata": {
  "kernelspec": {
   "display_name": "Python 3",
   "language": "python",
   "name": "python3"
  },
  "language_info": {
   "codemirror_mode": {
    "name": "ipython",
    "version": 3
   },
   "file_extension": ".py",
   "mimetype": "text/x-python",
   "name": "python",
   "nbconvert_exporter": "python",
   "pygments_lexer": "ipython3",
   "version": "3.5.6"
  }
 },
 "nbformat": 4,
 "nbformat_minor": 2
}
