{
 "cells": [
  {
   "cell_type": "code",
   "execution_count": 25,
   "metadata": {},
   "outputs": [],
   "source": [
    "# OCR - Tesseract\n",
    "\n",
    "from PIL import Image\n",
    "import pytesseract\n",
    "import cv2"
   ]
  },
  {
   "cell_type": "code",
   "execution_count": 32,
   "metadata": {},
   "outputs": [
    {
     "name": "stdout",
     "output_type": "stream",
     "text": [
      "1율슬은        <\n",
      "\n",
      ": 1879790148 ay\n",
      "\n",
      ": 김태준의 탕탕          0\n",
      ": te 감남구 학동로4릴 12, 1.2충(논현동)\n",
      "\n",
      ". 김태춘\n",
      "\n",
      "as\n",
      "\n",
      "TEL : 062-511-8235\n",
      "\n",
      "계\n",
      "TREK EP ALS FS\n",
      "카드번호 : 6250-03*~***-4903(()\n",
      "거래일시 : 2016/01/30 12.46:24\n",
      "song - 72110079\n",
      "매입 : 비씨카드사    가맹 : 798606607\n",
      "알림 : 600매출표\n",
      "문희 : 16)1544-4700\n",
      "\n",
      "* 감사합니다 *\n",
      "961702102772.05)20170215/0510\n"
     ]
    }
   ],
   "source": [
    "# https://blog.naver.com/PostView.nhn?blogId=tommybee&logNo=221307497468&parentCategoryNo=&categoryNo=54&viewDate=&isShowPopularPosts=true&from=search\n",
    "# Define config parameters.\n",
    "# '-l eng'  for using the English language\n",
    "# '--oem 1' for using LSTM OCR Engine\n",
    "# config1 = ('-l kor+eng --oem 1 --psm 3')\n",
    "config2 = ('-l kor --oem 2 --psm 3')\n",
    "\n",
    "def ocr_tesseract():\n",
    "    try:\n",
    "        image_file = 'images/reciept1.jpg'\n",
    "        img = cv2.imread(image_file)\n",
    "        \n",
    "        img = preprocessing(img)\n",
    "        \n",
    "        text = pytesseract.image_to_string(img, config=config)\n",
    "        \n",
    "        cv2.imshow('img', img)\n",
    "        print(text)\n",
    "        \n",
    "        cv2.waitKey(0)\n",
    "        cv2.destroyAllWindows()\n",
    "        cv2.waitKey(1)\n",
    "\n",
    "\n",
    "#         print(type(text))\n",
    "#         print(text.replace(\" \", String.empty))\n",
    "#         print(text.Replace(\" \", String.Empty).Replace(\"\\n\", String.Empty))\n",
    "    except Exception as ex:\n",
    "        print('ERROR:', ex)\n",
    "        \n",
    "#1. 아래의 전처리는 정확도를 떨어뜨린다, 가격이 잘 뽑히지 않음     \n",
    "# gray = cv2.cvtColor(img, cv2.COLOR_BGR2GRAY)\n",
    "# gray = cv2.threshold(gray, 0, 255, cv2.THRESH_BINARY | cv2.THRESH_OTSU)[1]\n",
    "def preprocessing(img):\n",
    "    #그레이 스케일 변환\n",
    "    gray = cv2.cvtColor(img, cv2.COLOR_BGR2GRAY)\n",
    "    \n",
    "    #배경에서 전경 텍스트를 분할하기 위해 임계값을 사용\n",
    "    gray = cv2.threshold(gray, 0, 255, cv2.THRESH_BINARY | cv2.THRESH_OTSU)[1]\n",
    "    \n",
    "    return gray\n",
    "    \n",
    "if __name__ == '__main__':\n",
    "    ocr_tesseract()"
   ]
  },
  {
   "cell_type": "code",
   "execution_count": null,
   "metadata": {},
   "outputs": [],
   "source": []
  },
  {
   "cell_type": "code",
   "execution_count": null,
   "metadata": {},
   "outputs": [],
   "source": []
  }
 ],
 "metadata": {
  "kernelspec": {
   "display_name": "Python 3",
   "language": "python",
   "name": "python3"
  },
  "language_info": {
   "codemirror_mode": {
    "name": "ipython",
    "version": 3
   },
   "file_extension": ".py",
   "mimetype": "text/x-python",
   "name": "python",
   "nbconvert_exporter": "python",
   "pygments_lexer": "ipython3",
   "version": "3.5.6"
  }
 },
 "nbformat": 4,
 "nbformat_minor": 2
}
