{
 "cells": [
  {
   "cell_type": "code",
   "execution_count": 6,
   "metadata": {},
   "outputs": [],
   "source": [
    "# OCR - Tesseract\n",
    "\n",
    "from PIL import Image\n",
    "import pytesseract"
   ]
  },
  {
   "cell_type": "code",
   "execution_count": 19,
   "metadata": {},
   "outputs": [
    {
     "name": "stdout",
     "output_type": "stream",
     "text": [
      "<class 'str'>\n",
      "ERROR: name 'String' is not defined\n"
     ]
    }
   ],
   "source": [
    "def ocr_tesseract():\n",
    "    try:\n",
    "        image_file = 'images/reciept1.jpg'\n",
    "        im = Image.open(image_file)\n",
    "        text = pytesseract.image_to_string(im, lang='kor+eng', config='--psm 1 -c preserve_interword_spaces=1')\n",
    "        im.show()\n",
    "\n",
    "        print(type(text))\n",
    "        print(text.replace(\" \", String.empty))\n",
    "#         print(text.Replace(\" \", String.Empty).Replace(\"\\n\", String.Empty))\n",
    "    except Exception as ex:\n",
    "        print('ERROR:', ex)\n",
    "        \n",
    "# def preprocessing():\n",
    "    \n",
    "    \n",
    "if __name__ == '__main__':\n",
    "    ocr_tesseract()"
   ]
  },
  {
   "cell_type": "code",
   "execution_count": null,
   "metadata": {},
   "outputs": [],
   "source": []
  },
  {
   "cell_type": "code",
   "execution_count": null,
   "metadata": {},
   "outputs": [],
   "source": []
  }
 ],
 "metadata": {
  "kernelspec": {
   "display_name": "Python 3",
   "language": "python",
   "name": "python3"
  },
  "language_info": {
   "codemirror_mode": {
    "name": "ipython",
    "version": 3
   },
   "file_extension": ".py",
   "mimetype": "text/x-python",
   "name": "python",
   "nbconvert_exporter": "python",
   "pygments_lexer": "ipython3",
   "version": "3.5.6"
  }
 },
 "nbformat": 4,
 "nbformat_minor": 2
}
