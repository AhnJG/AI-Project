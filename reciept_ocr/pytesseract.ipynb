{
 "cells": [
  {
   "cell_type": "code",
   "execution_count": 11,
   "metadata": {},
   "outputs": [],
   "source": [
    "# OCR - Tesseract\n",
    "\n",
    "from PIL import Image\n",
    "import pytesseract\n",
    "import cv2\n",
    "import re"
   ]
  },
  {
   "cell_type": "code",
   "execution_count": 57,
   "metadata": {},
   "outputs": [
    {
     "name": "stdout",
     "output_type": "stream",
     "text": [
      "['0 16 슨옹슬 은 <고 24 용) 08', '다 막기 ! 종조 을 디 전표번호 : 020200 \\\\00^', '태초 기맹점 : 김태준의 탕탕집 <', '0 이 도 이이고 다토로린 2. 1.26(는현동) 을', '베이 07 대므자 . 김내준 00 이 ~', '스레 사업자 : 536-37-00183 1트 : 02-511-3235 별', '이 6.818 뤄', '0088 부가세 6082', '그 시스 구내로 갤 골로 계 7.500 5', '이이 781찌카드', '= 카드번호 : 6250-03~****-4908(6) 일시분 0', '드나 01 0 거래일시 : 2018/01730 12.46:24 도', '세 86: 슴인번호 : 721 100759 .', '주소으스이 매입 : 비써카드사 가맹 : 798606607 ：', '000 이 일리 : ㅁ(매출프', '오즈 문의 : 16)1544-4700 ：', '패고 ㆍ 감사합니다 *', '6 \\\\617021027/2.05/2017021570510']\n"
     ]
    }
   ],
   "source": [
    "# https://blog.naver.com/PostView.nhn?blogId=tommybee&logNo=221307497468&parentCategoryNo=&categoryNo=54&viewDate=&isShowPopularPosts=true&from=search\n",
    "# Define config parameters.\n",
    "# '-l eng'  for using the English language\n",
    "# '--oem 1' for using LSTM OCR Engine\n",
    "# config = ('-l kor+eng --oem 1 --psm 3')\n",
    "# config = ('-l kor --oem 2 --psm 3 ') # ERROR, oem : lagacy + lstm, no support kor\n",
    "# config = ('-l kor --oem 1 --psm 1') # oem3 와 비슷\n",
    "config = ('-l kor --oem 1 --psm 6') # 가장 높은 정확도, kor < kor+eng, 영어를 함께 인식하면 오류율이 높아진다\n",
    "# psm 정확도  6 >>> 12,11 > 3\n",
    "\n",
    "def ocr_tesseract():\n",
    "    try:\n",
    "        image_file = 'images/reciept1.jpg'\n",
    "#         image_file = 'images/reciept4.jpeg'\n",
    "        img = cv2.imread(image_file)\n",
    "        \n",
    "        img = img_preprocessing(img)\n",
    "        \n",
    "        text = pytesseract.image_to_string(img, config=config)\n",
    "        text = text_processing(text)\n",
    "        \n",
    "        # 이미지 표시\n",
    "#         img_show(img)\n",
    "        \n",
    "        # 결과 출력\n",
    "        print(text)\n",
    "\n",
    "    except Exception as ex:\n",
    "        print('ERROR:', ex)\n",
    "        \n",
    "# 중복된 공백과 줄바꿈을 없앤다        \n",
    "def text_processing(text):       \n",
    "#     text = \" \".join(text.split()) # 리스트를 문자열로 변환, 줄바꿈까지 다 없애버린다, 한줄씩의 줄바꿈은 필요\n",
    "    text = re.sub(' +', ' ', text) # 중복 공백 제거\n",
    "    text = text.replace('\\n\\n', '\\n') # 중복 줄바꿈 제거\n",
    "    text = text.split('\\n') # \\n 단위로 리스트로 변경\n",
    "    \n",
    "    return text\n",
    "\n",
    "def img_show(img):\n",
    "    cv2.imshow('img', img)\n",
    "\n",
    "    cv2.waitKey(0)\n",
    "    cv2.destroyAllWindows()\n",
    "    cv2.waitKey(1)\n",
    "        \n",
    "#1. 아래의 전처리는 정확도를 떨어뜨린다, 가격이 잘 뽑히지 않음     \n",
    "# gray = cv2.cvtColor(img, cv2.COLOR_BGR2GRAY)\n",
    "# gray = cv2.threshold(gray, 0, 255, cv2.THRESH_BINARY | cv2.THRESH_OTSU)[1]\n",
    "def img_preprocessing(img):\n",
    "    #그레이 스케일 변환\n",
    "    gray = cv2.cvtColor(img, cv2.COLOR_BGR2GRAY)\n",
    "    \n",
    "    #배경에서 전경 텍스트를 분할하기 위해 임계값을 사용\n",
    "    gray = cv2.threshold(gray, 0, 255, cv2.THRESH_BINARY | cv2.THRESH_OTSU)[1]\n",
    "    \n",
    "    return gray\n",
    "    \n",
    "if __name__ == '__main__':\n",
    "    ocr_tesseract()"
   ]
  },
  {
   "cell_type": "code",
   "execution_count": null,
   "metadata": {},
   "outputs": [],
   "source": []
  },
  {
   "cell_type": "code",
   "execution_count": null,
   "metadata": {},
   "outputs": [],
   "source": []
  }
 ],
 "metadata": {
  "kernelspec": {
   "display_name": "Python 3",
   "language": "python",
   "name": "python3"
  },
  "language_info": {
   "codemirror_mode": {
    "name": "ipython",
    "version": 3
   },
   "file_extension": ".py",
   "mimetype": "text/x-python",
   "name": "python",
   "nbconvert_exporter": "python",
   "pygments_lexer": "ipython3",
   "version": "3.5.6"
  }
 },
 "nbformat": 4,
 "nbformat_minor": 2
}
