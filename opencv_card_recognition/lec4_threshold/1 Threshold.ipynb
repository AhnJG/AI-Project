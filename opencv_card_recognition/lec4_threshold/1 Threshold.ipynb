{
 "cells": [
  {
   "cell_type": "code",
   "execution_count": 11,
   "metadata": {},
   "outputs": [
    {
     "name": "stdout",
     "output_type": "stream",
     "text": [
      "(225, 225)\n",
      "225\n",
      "2.6666666666666665\n",
      "(600, 600)\n",
      "(600, 600)\n"
     ]
    }
   ],
   "source": [
    "#이미지 이진화\n",
    "import numpy as np\n",
    "import cv2 as cv\n",
    "\n",
    "#Call back function fro Trackbar\n",
    "def nothing(x):\n",
    "    pass\n",
    "\n",
    "def global_threshold():\n",
    "    imgFile = './cat.jpeg'\n",
    "    img = cv.imread(imgFile, cv.IMREAD_GRAYSCALE)\n",
    "    \n",
    "    r = 600.0 / img.shape[0]\n",
    "    print(img.shape)\n",
    "    print(img.shape[0])\n",
    "    \n",
    "    dim = (int(img.shape[1] * r), 600)\n",
    "    img = cv.resize(img, dim, interpolation = cv.INTER_AREA)\n",
    "    \n",
    "    print(r)\n",
    "    print(dim)\n",
    "    print(img.shape)\n",
    "    \n",
    "    windowName = 'window'\n",
    "    TrackbarName = 'Threshold'\n",
    "    \n",
    "    cv.namedWindow(windowName)\n",
    "    cv.createTrackbar(TrackbarName, windowName, 50, 255, nothing)\n",
    "    \n",
    "    threshold = np.zeros(img.shape, np.uint8)\n",
    "    \n",
    "    while True:\n",
    "        trackbarPos = cv.getTrackbarPos(TrackbarName, windowName)\n",
    "        cv.threshold(img, trackbarPos, 255, cv.THRESH_BINARY, threshold)\n",
    "        cv.imshow(windowName, threshold)\n",
    "        \n",
    "        k = cv.waitKey(0)\n",
    "        if k == 27:\n",
    "            cv.destroyAllWindows()\n",
    "            cv.waitKey(1)\n",
    "            break\n",
    "    return\n",
    "\n",
    "global_threshold()"
   ]
  },
  {
   "cell_type": "code",
   "execution_count": null,
   "metadata": {},
   "outputs": [],
   "source": []
  }
 ],
 "metadata": {
  "kernelspec": {
   "display_name": "Python 3",
   "language": "python",
   "name": "python3"
  },
  "language_info": {
   "codemirror_mode": {
    "name": "ipython",
    "version": 3
   },
   "file_extension": ".py",
   "mimetype": "text/x-python",
   "name": "python",
   "nbconvert_exporter": "python",
   "pygments_lexer": "ipython3",
   "version": "3.5.6"
  }
 },
 "nbformat": 4,
 "nbformat_minor": 2
}
