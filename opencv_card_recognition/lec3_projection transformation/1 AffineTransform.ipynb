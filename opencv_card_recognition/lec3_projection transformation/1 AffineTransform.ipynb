{
 "cells": [
  {
   "cell_type": "code",
   "execution_count": 5,
   "metadata": {},
   "outputs": [],
   "source": [
    "import numpy as np\n",
    "import cv2 as cv\n",
    "\n",
    "def warpAffine():\n",
    "    img = cv.imread('./mycard2.jpeg')\n",
    "    \n",
    "    #[50, 50]의 좌표를 [70, 100]으로 이동\n",
    "    pts1 = np.float32([[50, 50], [200,50], [20, 200]])\n",
    "    pts2 = np.float32([[70, 100], [220, 50], [150, 250]])\n",
    "    \n",
    "    #pts1 : 이동당할 픽셀\n",
    "    #pts2 : 이동할 위치 픽셀\n",
    "    #pts2에 맞춰 다른 모든 픽셀도 이동한 매트릭스를 결과값으로 리턴\n",
    "    M = cv.getAffineTransform(pts1, pts2)\n",
    "    \n",
    "    #img : 이동할 이미지 객체\n",
    "    #M : 좌표 이동 매트릭스\n",
    "    #(1300, 1000) : 변환된 이미지의 크기\n",
    "    result = cv.warpAffine(img, M, (1300, 1000))\n",
    "    \n",
    "    cv.imshow('original', img)\n",
    "    cv.imshow('Affine Transform', result)\n",
    "    \n",
    "    cv.waitKey(0)\n",
    "    cv.destroyAllWindows()\n",
    "    cv.waitKey(1)\n",
    "    \n",
    "warpAffine()"
   ]
  },
  {
   "cell_type": "code",
   "execution_count": null,
   "metadata": {},
   "outputs": [],
   "source": []
  }
 ],
 "metadata": {
  "kernelspec": {
   "display_name": "Python 3",
   "language": "python",
   "name": "python3"
  },
  "language_info": {
   "codemirror_mode": {
    "name": "ipython",
    "version": 3
   },
   "file_extension": ".py",
   "mimetype": "text/x-python",
   "name": "python",
   "nbconvert_exporter": "python",
   "pygments_lexer": "ipython3",
   "version": "3.5.6"
  }
 },
 "nbformat": 4,
 "nbformat_minor": 2
}
