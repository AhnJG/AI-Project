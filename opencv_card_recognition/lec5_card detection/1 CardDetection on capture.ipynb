{
 "cells": [
  {
   "cell_type": "code",
   "execution_count": 51,
   "metadata": {},
   "outputs": [],
   "source": [
    "# import numpy as np\n",
    "import cv2 as cv"
   ]
  },
  {
   "cell_type": "code",
   "execution_count": 94,
   "metadata": {},
   "outputs": [
    {
     "name": "stdout",
     "output_type": "stream",
     "text": [
      "STEP 1: Edge Detection\n"
     ]
    },
    {
     "data": {
      "text/plain": [
       "-1"
      ]
     },
     "execution_count": 94,
     "metadata": {},
     "output_type": "execute_result"
    }
   ],
   "source": [
    "# load the imagfe and compute the ratio of the old height\n",
    "# to the new height, clone it, and resize it\n",
    "# mycard2.jpeg\n",
    "image = cv.imread('./reciept1.jpg')\n",
    "orig = image.copy()\n",
    "r = 800.0 / image.shape[0]\n",
    "dim = (int(image.shape[1] * r), 800)\n",
    "image = cv.resize(image, dim, interpolation = cv.INTER_AREA)\n",
    "\n",
    "# convert the image to grayscale, blur it, and find edges in the image\n",
    "gray = cv.cvtColor(image, cv.COLOR_BGR2GRAY)\n",
    "# gray = cv.GaussianBlur(gray, (3, 3), 0)\n",
    "gray = cv.bilateralFilter(gray, 5, 50, 50)\n",
    "edged = cv.Canny(gray, 30, 100)\n",
    "\n",
    "# show the original image and the edge detected image\n",
    "print('STEP 1: Edge Detection')\n",
    "cv.imshow('image', image)\n",
    "cv.imshow('gray', gray)\n",
    "cv.imshow('edged', edged)\n",
    "\n",
    "cv.waitKey(0)\n",
    "cv.destroyAllWindows()\n",
    "cv.waitKey(1)"
   ]
  },
  {
   "cell_type": "code",
   "execution_count": 88,
   "metadata": {},
   "outputs": [
    {
     "name": "stdout",
     "output_type": "stream",
     "text": [
      "11\n",
      "7\n",
      "8\n",
      "7\n",
      "8\n",
      "STEP 2: Find contours of paper\n"
     ]
    },
    {
     "data": {
      "text/plain": [
       "-1"
      ]
     },
     "execution_count": 88,
     "metadata": {},
     "output_type": "execute_result"
    }
   ],
   "source": [
    "#find the contours in the edged image, keeping only the largest ones, and initialize the screen contour\n",
    "i, cnts, h = cv.findContours(edged.copy(), cv.RETR_LIST, cv.CHAIN_APPROX_SIMPLE)\n",
    "cnts = sorted(cnts, key = cv.contourArea, reverse=True)[:5]\n",
    "\n",
    "# loop over the contours\n",
    "for c in cnts:\n",
    "    #approximate the contour\n",
    "    peri = cv.arcLength(c, True)\n",
    "    approx = cv.approxPolyDP(c, 0.02 * peri, True)\n",
    "    \n",
    "    # if our approximated contour has four points, then we can assume that we have found our screen\n",
    "    if len(approx) == 4:\n",
    "        screenCnt = approx\n",
    "        break\n",
    "    print(len(approx))\n",
    "\n",
    "# print(approx)\n",
    "# print(type(approx))        \n",
    "# print(screenCnt)\n",
    "# print(type(screenCnt))\n",
    "# show the contour (outline) of the piece of paper\n",
    "print('STEP 2: Find contours of paper')\n",
    "cv.drawContours(image, [screenCnt], -1, (0, 255, 0), 2)\n",
    "cv.imshow('outline', image)\n",
    "\n",
    "cv.waitKey(0)\n",
    "cv.destroyAllWindows()\n",
    "cv.waitKey(1)\n"
   ]
  },
  {
   "cell_type": "code",
   "execution_count": null,
   "metadata": {},
   "outputs": [],
   "source": []
  }
 ],
 "metadata": {
  "kernelspec": {
   "display_name": "Python 3",
   "language": "python",
   "name": "python3"
  },
  "language_info": {
   "codemirror_mode": {
    "name": "ipython",
    "version": 3
   },
   "file_extension": ".py",
   "mimetype": "text/x-python",
   "name": "python",
   "nbconvert_exporter": "python",
   "pygments_lexer": "ipython3",
   "version": "3.5.6"
  }
 },
 "nbformat": 4,
 "nbformat_minor": 2
}
