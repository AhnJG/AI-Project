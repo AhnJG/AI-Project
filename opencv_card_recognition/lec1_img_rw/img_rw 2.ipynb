{
 "cells": [
  {
   "cell_type": "code",
   "execution_count": 4,
   "metadata": {},
   "outputs": [],
   "source": [
    "import numpy as np\n",
    "import cv2\n",
    "\n",
    "def img_handle():\n",
    "    imgFile = './cat.jpg'\n",
    "    img = cv2.imread(imgFile, cv2.IMREAD_GRAYSCALE) # 그레이 스케일로 변경\n",
    "    \n",
    "    cv2.namedWindow('image', cv2.WINDOW_NORMAL) # 원본 이미지 크기로 윈도우를 생성하되 사용자가 크기를 조절할 수 있음\n",
    "    cv2.imshow('image', img)\n",
    "    \n",
    "    k = cv2.waitKey(0) \n",
    "    if k == 27: # 27 : esc\n",
    "        cv2.destroyAllWindows()\n",
    "        cv2.waitKey(1)\n",
    "    elif k == ord('s'): #s의 아스키\n",
    "        cv2.imwrite('grayImage.jpg', img)\n",
    "        cv2.destroyAllWindows()\n",
    "        cv2.waitKey(1)\n",
    "        \n",
    "if __name__ == '__main__':\n",
    "    img_handle()\n",
    "    "
   ]
  },
  {
   "cell_type": "code",
   "execution_count": null,
   "metadata": {},
   "outputs": [],
   "source": []
  },
  {
   "cell_type": "code",
   "execution_count": null,
   "metadata": {},
   "outputs": [],
   "source": []
  }
 ],
 "metadata": {
  "kernelspec": {
   "display_name": "Python 3",
   "language": "python",
   "name": "python3"
  },
  "language_info": {
   "codemirror_mode": {
    "name": "ipython",
    "version": 3
   },
   "file_extension": ".py",
   "mimetype": "text/x-python",
   "name": "python",
   "nbconvert_exporter": "python",
   "pygments_lexer": "ipython3",
   "version": "3.5.6"
  }
 },
 "nbformat": 4,
 "nbformat_minor": 2
}
