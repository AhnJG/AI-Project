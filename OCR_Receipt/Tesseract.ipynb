{
 "cells": [
  {
   "cell_type": "code",
   "execution_count": 86,
   "metadata": {},
   "outputs": [],
   "source": [
    "# OCR - Tesseract\n",
    "\n",
    "from PIL import Image\n",
    "import pytesseract\n",
    "import cv2\n",
    "import re\n",
    "import os\n",
    "import datetime\n",
    "import numpy as np\n",
    "import matplotlib.pyplot as plt "
   ]
  },
  {
   "cell_type": "code",
   "execution_count": 87,
   "metadata": {},
   "outputs": [],
   "source": [
    "# https://blog.naver.com/PostView.nhn?blogId=tommybee&logNo=221307497468&parentCategoryNo=&categoryNo=54&viewDate=&isShowPopularPosts=true&from=search\n",
    "# Define config parameters.\n",
    "# '-l eng'  for using the English language\n",
    "# '--oem 1' for using LSTM OCR Engine\n",
    "# config = ('-l kor+eng --oem 1 --psm 3')\n",
    "# config = ('-l kor --oem 2 --psm 3 ') # ERROR, oem : lagacy + lstm, no support kor\n",
    "# config = ('-l kor --oem 1 --psm 1') # oem3 와 비슷\n",
    "\n",
    "# kor > kor+eng, 영어를 함께 인식하면 오류율이 높아진다\n",
    "# psm 정확도  6 >>> 12,11 > 3\n",
    "config = ('-l kor --oem 1 --psm 6') "
   ]
  },
  {
   "cell_type": "code",
   "execution_count": 88,
   "metadata": {},
   "outputs": [],
   "source": [
    "def all_file_ocr_tesseract(image_folder):\n",
    "    try:\n",
    "        all_file = get_all_file(image_folder)\n",
    "        result = []\n",
    "        \n",
    "        for image_file in all_file:\n",
    "            img = cv2.imread(image_file)\n",
    "            img = img_preprocessing(img)\n",
    "            text = pytesseract.image_to_string(img, config=config)\n",
    "            text = text_processing(text)\n",
    "            \n",
    "            result.append(text)\n",
    "        \n",
    "        print(result)\n",
    "        print(result[0])\n",
    "\n",
    "    except Exception as ex:\n",
    "        print('ERROR:', ex)"
   ]
  },
  {
   "cell_type": "code",
   "execution_count": 89,
   "metadata": {},
   "outputs": [],
   "source": [
    "def ocr_tesseract(image_path):\n",
    "    try:\n",
    "        #Image Read\n",
    "        img = cv2.imread(image_path)\n",
    "        \n",
    "        # Image Preprocessing\n",
    "        img = img_preprocessing(img)\n",
    "        \n",
    "        # Process OCR\n",
    "        text = pytesseract.image_to_string(img, config=config)\n",
    "        \n",
    "        # 텍스트 공백, 줄바꿈 필터링\n",
    "        result = text_processing(text)\n",
    "        \n",
    "        # 결과 출력\n",
    "        print(result)\n",
    "        \n",
    "        # 결과에서 특정 문장 parsing\n",
    "        parse_data = text_parse(result)\n",
    "        \n",
    "        # 파일에 결과 작성\n",
    "        write_result(result, parse_data, image_path)\n",
    "        \n",
    "    except Exception as ex:\n",
    "        print('ERROR:', ex)\n"
   ]
  },
  {
   "cell_type": "code",
   "execution_count": 105,
   "metadata": {},
   "outputs": [],
   "source": [
    "# 결과 작성\n",
    "def write_result(result, parse_data, image_path):\n",
    "    #Get Current DateTime\n",
    "    now = datetime.datetime.now()\n",
    "    mode = 'w'\n",
    "    \n",
    "    # 결과 파일이 있으면 a mode, 없으면 w mode\n",
    "    if os.path.isfile('res.txt'):\n",
    "        mode = 'a'\n",
    "        \n",
    "    with open(\"res.txt\", mode) as f:\n",
    "        f.write(str(now) + '\\n')\n",
    "        f.write(image_path + '\\n')\n",
    "        f.write(str(result) + '\\n')\n",
    "        f.write('==================' * 4 + '\\n')\n",
    "        f.write(str(parse_data) + '\\n')\n",
    "        f.write('==================' * 7 + '\\n')"
   ]
  },
  {
   "cell_type": "code",
   "execution_count": 91,
   "metadata": {},
   "outputs": [],
   "source": [
    "# 해당 폴더에 있는 모든 파일들의 절대 경로+이름을 리턴한다        \n",
    "def get_all_file(image_folder):\n",
    "    path_files = os.getcwd() \n",
    "    file_name = next(os.walk('.'+image_folder))[2]\n",
    "    all_file = [path_files + image_folder + '/' + file for file in file_name]\n",
    "    \n",
    "    return all_file"
   ]
  },
  {
   "cell_type": "code",
   "execution_count": 92,
   "metadata": {},
   "outputs": [],
   "source": [
    "# 중복된 공백과 줄바꿈을 없앤다        \n",
    "def text_processing(text):       \n",
    "#     text = \" \".join(text.split()) # 리스트를 문자열로 변환, 줄바꿈까지 다 없애버린다, 한줄씩의 줄바꿈은 필요\n",
    "    text = re.sub(' +', ' ', text) # 중복 공백 제거\n",
    "    text = text.replace('\\n\\n', '\\n') # 중복 줄바꿈 제거\n",
    "    text = text.split('\\n') # \\n 단위로 리스트로 변경\n",
    "    \n",
    "    return text"
   ]
  },
  {
   "cell_type": "code",
   "execution_count": 103,
   "metadata": {},
   "outputs": [],
   "source": [
    "# 결과 텍스트에서 특정 문자가 있는 문장을 파싱한다\n",
    "def text_parse(texts):\n",
    "    #알고리즘을 개선하고 싶다.. 뭔가 없을까\n",
    "    comp_list = ['거래금액', '총금액', '가맹점전화']\n",
    "    result = []\n",
    "    for text in texts:\n",
    "        for comp in comp_list:\n",
    "            if comp in text:\n",
    "                result.append(text)\n",
    "                print(text)\n",
    "    return result\n",
    "                "
   ]
  },
  {
   "cell_type": "code",
   "execution_count": 94,
   "metadata": {},
   "outputs": [],
   "source": [
    "def show_img(image, alt='img'):\n",
    "    # Set image name and path\n",
    "    np_array = np.array(1)    \n",
    "    path = os.getcwd() + '/images/Tesseract_' + alt + '.png'\n",
    "    \n",
    "    # cv이미지는 PIL이미지로 변경\n",
    "    if type(image) == type(np_array):\n",
    "        # Gray이미지는 그대로, BGR이미지는 RGB이미지로 변경\n",
    "        if(len(image.shape)<3):\n",
    "            print('gray')\n",
    "        elif len(image.shape)==3:\n",
    "            image = cv2.cvtColor(image, cv2.COLOR_BGR2RGB)\n",
    "\n",
    "        # Convert cv image to PIL image\n",
    "        image = Image.fromarray(image)\n",
    "\n",
    "    # Image Save and Open\n",
    "    image.save(path, dpi=(300, 300))\n",
    "    image = Image.open(path)\n",
    "    \n",
    "    # Print Image Info\n",
    "    print(alt, ' size : ', image.size)\n",
    "    print(alt, ' dpi : ', image.info['dpi'])\n",
    "    print('-' * 30)\n",
    "    \n",
    "    # Show Image\n",
    "    plt.figure()\n",
    "    plt.title(alt)\n",
    "    plt.imshow(image)\n",
    "    \n",
    "    return path"
   ]
  },
  {
   "cell_type": "code",
   "execution_count": 95,
   "metadata": {},
   "outputs": [],
   "source": [
    "#1. 아래의 전처리는 정확도를 떨어뜨린다, 가격이 잘 뽑히지 않음     \n",
    "def img_preprocessing(img):\n",
    "    gray = cv2.cvtColor(img, cv2.COLOR_BGR2GRAY)    #그레이 스케일 변환\n",
    "#     gray = cv2.threshold(gray, 0, 255, cv2.THRESH_BINARY | cv2.THRESH_OTSU)[1]  #배경에서 전경 텍스트를 분할하기 위해 임계값을 사용\n",
    "    \n",
    "    show_img(gray, 'Preprocessing')\n",
    "    return gray"
   ]
  },
  {
   "cell_type": "code",
   "execution_count": 106,
   "metadata": {},
   "outputs": [
    {
     "name": "stdout",
     "output_type": "stream",
     "text": [
      "gray\n",
      "Preprocessing  size :  (410, 980)\n",
      "Preprocessing  dpi :  (300, 300)\n",
      "------------------------------\n",
      "['시기 이이 기마제 ! 플림회 000다 노스', '16 카드슬은 !회원용|', '삼모:제추선불 블루비 티:김', '사업지번호: 350 00050 박은 기리', '110:104633-97248 전00:292-4363', '세주특별사시노 제주시 농문로4길 14 |밀도일', '동)', '카드번호19400-944-904-4155 일시불', '가맹점번호: 78443762 사동미제 전표', '거라밀시: 19/0/11 10:8:1000', '거래금액: 10. 910원', '세금: 1 . 090원', '총금액: 12. 000원', '승인변호: 30000774', '매입사:국민카드 발급사:배 세크카드', '가맹점전화: 010 4339-4624', '16 카드승인 [가맹점용]', '상오:세주선물 블루버미 대표사:김성희', '사업자번호: 369-09-00250', '110:100634 072 - 전파0:29200', '지-태뷔사시도 세주시 농문로4길 14 [일도일', '키2번오:9400 0 시동 일시불', '가맹점번호: 70443762 사농미제 전표', '거라밀사: 19/10/1 10960000', '라99: 00000 10.90빌', '갈마 부일', '총멈액: 12. 0008', '슬오번조: 306 74', '아노 든 { 30000248 과']\n",
      "거래금액: 10. 910원\n",
      "총금액: 12. 000원\n"
     ]
    },
    {
     "data": {
      "image/png": "[encoded data removed]",
      "text/plain": [
       "<Figure size 432x288 with 1 Axes>"
      ]
     },
     "metadata": {
      "needs_background": "light"
     },
     "output_type": "display_data"
    }
   ],
   "source": [
    "if __name__ == '__main__':\n",
    "    image_folder = '/images/video_receipt'\n",
    "    image_path = 'images/Preprocessing_rotated_mat.png'\n",
    "    \n",
    "    ocr_tesseract(image_path)"
   ]
  },
  {
   "cell_type": "code",
   "execution_count": null,
   "metadata": {},
   "outputs": [],
   "source": []
  },
  {
   "cell_type": "code",
   "execution_count": null,
   "metadata": {},
   "outputs": [],
   "source": []
  },
  {
   "cell_type": "code",
   "execution_count": null,
   "metadata": {},
   "outputs": [],
   "source": []
  }
 ],
 "metadata": {
  "kernelspec": {
   "display_name": "Python 3",
   "language": "python",
   "name": "python3"
  },
  "language_info": {
   "codemirror_mode": {
    "name": "ipython",
    "version": 3
   },
   "file_extension": ".py",
   "mimetype": "text/x-python",
   "name": "python",
   "nbconvert_exporter": "python",
   "pygments_lexer": "ipython3",
   "version": "3.5.6"
  }
 },
 "nbformat": 4,
 "nbformat_minor": 2
}
