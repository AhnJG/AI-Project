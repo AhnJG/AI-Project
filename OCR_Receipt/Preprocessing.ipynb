{
 "cells": [
  {
   "cell_type": "markdown",
   "metadata": {},
   "source": [
    "## [Improve Accuracy of OCR using Image Preprocessing](https://medium.com/cashify-engineering/improve-accuracy-of-ocr-using-image-preprocessing-8df29ec3a033)\n",
    "- OCR output highly depends on the quality of input image.    \n",
    "- This is why every OCR engine provides guidelines regarding the quality of input image and its size. \n",
    "- These guidelines help OCR engine to produce accurate results.    \n",
    "- Here Image Preprocessing comes into play to improve the quality of input image so that the OCR engine gives you an accurate output.\n",
    "---\n",
    "- OCR의 결과는 입력 이미지의 Quality에 많은 의존성을 가진다\n",
    "- 이것은 모든 OCR Engine이 입력 이미지의 Quality와 이미지의 사이즈에 대한 가이드라인을 제공하는 이유이다\n",
    "- 이러한 가이드라인은 OCR Engine이 정확한 결과를 생산하는 것을 도울것이다\n",
    "- 이미지 전처리는 입력이미지의 Quality를 향상 시켜서 OCR Engine이 너에게 정확한 결과를 주도록 할 것 이다"
   ]
  },
  {
   "cell_type": "code",
   "execution_count": 4,
   "metadata": {},
   "outputs": [],
   "source": [
    "from PIL import Image\n",
    "import cv2\n",
    "import numpy as np"
   ]
  },
  {
   "cell_type": "markdown",
   "metadata": {},
   "source": [
    "### Scaling of image \n",
    "- Image Rescaling is important for image analysis. \n",
    "- Mostly OCR engine give an accurate output of the image which has 300 DPI. \n",
    "- DPI describes the resolution of the image or in other words, it denotes printed dots per inch.\n",
    "---\n",
    "- 이미지 Rescaling은 이미지 분석에 매우 중요하다\n",
    "- 대부분의 OCR Engine은 이미지가 300 DPI일때 정확한 결과를 준다\n",
    "- DPI는 이미지의 Resolution(해상도)를 나타내고, 다른 말로 인치당 표시되는 도트의 수를 나타낸다\n"
   ]
  },
  {
   "cell_type": "code",
   "execution_count": 2,
   "metadata": {},
   "outputs": [],
   "source": [
    "def set_image_dpi(file_path):\n",
    "    im = Image.open(file_path)\n",
    "    length_x, width_y = im.size\n",
    "    factor = min(1, float(1024.0 / length_x))\n",
    "    size = int(factor * length_x), int(factor * width_y)\n",
    "    im_resized = im.resize(size, Image.ANTIALIAS)\n",
    "    temp_file = tempfile.NamedTemporaryFile(delete=False,   suffix='.png')\n",
    "    temp_filename = temp_file.name\n",
    "    im_resized.save(temp_filename, dpi=(300, 300))\n",
    "    return temp_filename"
   ]
  }
 ],
 "metadata": {
  "kernelspec": {
   "display_name": "Python 3",
   "language": "python",
   "name": "python3"
  },
  "language_info": {
   "codemirror_mode": {
    "name": "ipython",
    "version": 3
   },
   "file_extension": ".py",
   "mimetype": "text/x-python",
   "name": "python",
   "nbconvert_exporter": "python",
   "pygments_lexer": "ipython3",
   "version": "3.5.6"
  }
 },
 "nbformat": 4,
 "nbformat_minor": 2
}
