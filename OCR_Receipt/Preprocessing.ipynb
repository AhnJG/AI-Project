{
 "cells": [
  {
   "cell_type": "markdown",
   "metadata": {},
   "source": [
    "## [Improve Accuracy of OCR using Image Preprocessing](https://medium.com/cashify-engineering/improve-accuracy-of-ocr-using-image-preprocessing-8df29ec3a033)\n",
    "- OCR output highly depends on the quality of input image.    \n",
    "- This is why every OCR engine provides guidelines regarding the quality of input image and its size. \n",
    "- These guidelines help OCR engine to produce accurate results.    \n",
    "- Here Image Preprocessing comes into play to improve the quality of input image so that the OCR engine gives you an accurate output.\n",
    "---\n",
    "- OCR의 결과는 입력 이미지의 Quality에 많은 의존성을 가진다\n",
    "- 이것은 모든 OCR Engine이 입력 이미지의 Quality와 이미지의 사이즈에 대한 가이드라인을 제공하는 이유이다\n",
    "- 이러한 가이드라인은 OCR Engine이 정확한 결과를 생산하는 것을 도울것이다\n",
    "- 이미지 전처리는 입력이미지의 Quality를 향상 시켜서 OCR Engine이 너에게 정확한 결과를 주도록 할 것 이다"
   ]
  },
  {
   "cell_type": "code",
   "execution_count": 22,
   "metadata": {},
   "outputs": [],
   "source": [
    "from PIL import Image\n",
    "import cv2\n",
    "import numpy as np\n",
    "import os\n",
    "import tempfile\n",
    "\n",
    "# imutils : OpenCV가 제공하는 기능 중에 좀 복잡하고 사용성이 떨어지는 부분을 잘 보완해 주는 패키지\n",
    "# https://enjoyimageprocessing.tistory.com/entry/imutils-package-%EA%B8%B0%EB%8A%A5\n",
    "import imutils\n"
   ]
  },
  {
   "cell_type": "markdown",
   "metadata": {},
   "source": [
    "### Scaling of image \n",
    "- Image Rescaling is important for image analysis. \n",
    "- Mostly OCR engine give an accurate output of the image which has 300 DPI. \n",
    "- DPI describes the resolution of the image or in other words, it denotes printed dots per inch.\n",
    "---\n",
    "- 이미지 Rescaling은 이미지 분석에 매우 중요하다\n",
    "- 대부분의 OCR Engine은 이미지가 300 DPI일때 정확한 결과를 준다\n",
    "- DPI는 이미지의 Resolution(해상도)를 나타내고, 다른 말로 인치당 표시되는 도트의 수를 나타낸다\n"
   ]
  },
  {
   "cell_type": "code",
   "execution_count": 37,
   "metadata": {},
   "outputs": [],
   "source": [
    "# 이미지 경로를 입력받아 300dpi로 변환 후 확장자는 png로 저장한다, return 저장된 파일 이름\n",
    "def set_image_dpi(file_path):\n",
    "    im = Image.open(file_path)\n",
    "    \n",
    "    length_x, width_y = im.size\n",
    "    factor = min(1, float(1024.0 / length_x))\n",
    "    size = int(factor * length_x), int(factor * width_y)\n",
    "    im_resized = im.resize(size, Image.ANTIALIAS)\n",
    "    \n",
    "    # import tempfile : 임시 파일 생성\n",
    "    # https://medium.com/@silmari/python-tempfile-%EC%9E%84%EC%8B%9C%ED%8C%8C%EC%9D%BC-%EB%B0%8F-%ED%8F%B4%EB%8D%94-%EB%A7%8C%EB%93%A4%EA%B8%B0-86ea533086ce\n",
    "    # delete=True : 코드 실행이 완료되면 임시 파일 삭제, True로 하면 파일이 저장이 안되어 나중에 읽을수가 없다\n",
    "    temp_file = tempfile.NamedTemporaryFile(delete=False, suffix='.png')  \n",
    "    temp_filename = temp_file.name\n",
    "    \n",
    "    im_resized.save(temp_filename, dpi=(300, 300))\n",
    "    \n",
    "    return temp_filename"
   ]
  },
  {
   "cell_type": "markdown",
   "metadata": {},
   "source": [
    "### Skew Correction\n",
    "- A Skewed image is defined as a document image which is not straight. \n",
    "- Skewed images directly impact the line segmentation of OCR engine which reduces its accuracy. \n",
    "- We need to process the following steps to correct text skew.\n",
    "---\n",
    "- Skewed(왜곡된, 비스듬한, 기울어진) Image는 똑바르지 않은 문서 이미지로 정의된다 \n",
    "- Skewed Image는 OCR Engine의 Line Segmentation에 바로 영향을 준다, 이것은 정확도를 줄인다\n",
    "- 우리는 기울어진 텍스트를 올바르게 만들기 위해 아래와 같은 처리가 필요하다\n",
    "\n",
    "#### 1. Detect the text block with skew in the image.\n",
    "---\n",
    "#### 1. 이미지에서 기울어진 Text Block 탐지하기"
   ]
  },
  {
   "cell_type": "code",
   "execution_count": 38,
   "metadata": {},
   "outputs": [],
   "source": [
    "def skew_correction(image):\n",
    "    gray = cv2.cvtColor(image, cv2.COLOR_BGR2GRAY)\n",
    "    gray = cv2.GaussianBlur(gray, (5, 5), 0)\n",
    "    edged = cv2.Canny(gray, 10, 50)\n",
    "    cnts = cv2.findContours(edged.copy(), cv2.RETR_LIST, cv2.CHAIN_APPROX_SIMPLE)\n",
    "    cnts = cnts[0] if imutils.is_cv2() else cnts[1]\n",
    "    cnts = sorted(cnts, key=cv2.contourArea, reverse=True)[:5]\n",
    "    screenCnt = None\n",
    "    for c in cnts:\n",
    "        peri = cv2.arcLength(c, True)\n",
    "        approx = cv2.approxPolyDP(c, 0.02 * peri, True)\n",
    "        if len(approx) == 4:\n",
    "            screenCnt = approx\n",
    "            break\n",
    "\n",
    "    cv2.drawContours(image, [screenCnt], -1, (0, 255, 0), 2)\n",
    "    return image, screenCnt"
   ]
  },
  {
   "cell_type": "markdown",
   "metadata": {},
   "source": [
    "#### 2. Now calculate the angle of rotation.\n",
    "#### 3. Rotating the image to correct the skew.\n",
    "----\n",
    "#### 2. 회전 각도 계산\n",
    "#### 3. 비스듬한 이미지를 바르게 만들도록 이미지 회전"
   ]
  },
  {
   "cell_type": "code",
   "execution_count": 39,
   "metadata": {},
   "outputs": [
    {
     "ename": "NameError",
     "evalue": "name 'screenCnt' is not defined",
     "output_type": "error",
     "traceback": [
      "\u001b[0;31m---------------------------------------------------------------------------\u001b[0m",
      "\u001b[0;31mNameError\u001b[0m                                 Traceback (most recent call last)",
      "\u001b[0;32m<ipython-input-39-04ba04f49e6f>\u001b[0m in \u001b[0;36m<module>\u001b[0;34m()\u001b[0m\n\u001b[0;32m----> 1\u001b[0;31m \u001b[0mpts\u001b[0m \u001b[0;34m=\u001b[0m \u001b[0mnp\u001b[0m\u001b[0;34m.\u001b[0m\u001b[0marray\u001b[0m\u001b[0;34m(\u001b[0m\u001b[0mscreenCnt\u001b[0m\u001b[0;34m.\u001b[0m\u001b[0mreshape\u001b[0m\u001b[0;34m(\u001b[0m\u001b[0;36m4\u001b[0m\u001b[0;34m,\u001b[0m \u001b[0;36m2\u001b[0m\u001b[0;34m)\u001b[0m \u001b[0;34m*\u001b[0m \u001b[0mratio\u001b[0m\u001b[0;34m)\u001b[0m\u001b[0;34m\u001b[0m\u001b[0m\n\u001b[0m\u001b[1;32m      2\u001b[0m \u001b[0mwarped\u001b[0m \u001b[0;34m=\u001b[0m \u001b[0mfour_point_transform\u001b[0m\u001b[0;34m(\u001b[0m\u001b[0morig\u001b[0m\u001b[0;34m,\u001b[0m \u001b[0mpts\u001b[0m\u001b[0;34m)\u001b[0m\u001b[0;34m\u001b[0m\u001b[0m\n\u001b[1;32m      3\u001b[0m \u001b[0;32mdef\u001b[0m \u001b[0morder_points\u001b[0m\u001b[0;34m(\u001b[0m\u001b[0mpts\u001b[0m\u001b[0;34m)\u001b[0m\u001b[0;34m:\u001b[0m\u001b[0;34m\u001b[0m\u001b[0m\n\u001b[1;32m      4\u001b[0m     \u001b[0;31m# initialzie a list of coordinates that will be ordered\u001b[0m\u001b[0;34m\u001b[0m\u001b[0;34m\u001b[0m\u001b[0m\n\u001b[1;32m      5\u001b[0m     \u001b[0;31m# such that the first entry in the list is the top-left,\u001b[0m\u001b[0;34m\u001b[0m\u001b[0;34m\u001b[0m\u001b[0m\n",
      "\u001b[0;31mNameError\u001b[0m: name 'screenCnt' is not defined"
     ]
    }
   ],
   "source": [
    "# https://medium.com/@brijesh.vicky/thanks-for-writing-i-am-sending-you-detail-of-above-two-variable-8134ed7f3020\n",
    "process_height = 500\n",
    "ratio = image.shape[0] / float(process_height)\n",
    "# And orig is copy of original image\n",
    "orig = image.copy()\n",
    "\n",
    "pts = np.array(screenCnt.reshape(4, 2) * ratio)\n",
    "warped = four_point_transform(orig, pts)\n",
    "\n",
    "def order_points(pts):\n",
    "    # initialzie a list of coordinates that will be ordered\n",
    "    # such that the first entry in the list is the top-left,\n",
    "    # the second entry is the top-right, the third is the\n",
    "    # bottom-right, and the fourth is the bottom-left\n",
    "    rect = np.zeros((4, 2), dtype=\"float32\")\n",
    "\n",
    "    # the top-left point will have the smallest sum, whereas\n",
    "    # the bottom-right point will have the largest sum\n",
    "    s = pts.sum(axis=1)\n",
    "    rect[0] = pts[np.argmin(s)]\n",
    "    rect[2] = pts[np.argmax(s)]\n",
    "\n",
    "    # now, compute the difference between the points, the\n",
    "    # top-right point will have the smallest difference,\n",
    "    # whereas the bottom-left will have the largest difference\n",
    "    diff = np.diff(pts, axis=1)\n",
    "    rect[1] = pts[np.argmin(diff)]\n",
    "    rect[3] = pts[np.argmax(diff)]\n",
    "\n",
    "    # return the ordered coordinates\n",
    "    return rect\n",
    "\n",
    "\n",
    "def four_point_transform(image, pts):\n",
    "    # obtain a consistent order of the points and unpack them\n",
    "    # individually\n",
    "    rect = order_points(pts)\n",
    "    (tl, tr, br, bl) = rect\n",
    "\n",
    "    # compute the width of the new image, which will be the\n",
    "    # maximum distance between bottom-right and bottom-left\n",
    "    # x-coordiates or the top-right and top-left x-coordinates\n",
    "    widthA = np.sqrt(((br[0] - bl[0]) ** 2) + ((br[1] - bl[1]) ** 2))\n",
    "    widthB = np.sqrt(((tr[0] - tl[0]) ** 2) + ((tr[1] - tl[1]) ** 2))\n",
    "    maxWidth = max(int(widthA), int(widthB))\n",
    "\n",
    "    # compute the height of the new image, which will be the\n",
    "    # maximum distance between the top-right and bottom-right\n",
    "    # y-coordinates or the top-left and bottom-left y-coordinates\n",
    "    heightA = np.sqrt(((tr[0] - br[0]) ** 2) + ((tr[1] - br[1]) ** 2))\n",
    "    heightB = np.sqrt(((tl[0] - bl[0]) ** 2) + ((tl[1] - bl[1]) ** 2))\n",
    "    maxHeight = max(int(heightA), int(heightB))\n",
    "\n",
    "    # now that we have the dimensions of the new image, construct\n",
    "    # the set of destination points to obtain a \"birds eye view\",\n",
    "    # (i.e. top-down view) of the image, again specifying points\n",
    "    # in the top-left, top-right, bottom-right, and bottom-left\n",
    "    # order\n",
    "    dst = np.array([\n",
    "        [0, 0],\n",
    "        [maxWidth - 1, 0],\n",
    "        [maxWidth - 1, maxHeight - 1],\n",
    "        [0, maxHeight - 1]], dtype=\"float32\")\n",
    "\n",
    "    # compute the perspective transform matrix and then apply it\n",
    "    M = cv2.getPerspectiveTransform(rect, dst)\n",
    "    warped = cv2.warpPerspective(image, M, (maxWidth, maxHeight))\n",
    "    return warped"
   ]
  },
  {
   "cell_type": "markdown",
   "metadata": {},
   "source": [
    "### Binarization\n",
    "- Mostly, an OCR engine does binarization internally because they work on Black & White images. \n",
    "- The simplest way is to calculate a threshold value and convert all pixels to white with a value above threshold value and rest of pixels convert into the black. \n",
    "- I am using OpenCV with Simple Thresholding, Adaptive Thresholding, and Otsu’s Binarization.\n",
    "---\n",
    "- 대부분의 OCR Engine은 내부적으로 이진화를 수행한다 그것들이 흑백 이미지에서 작동하기 때문이다\n",
    "- 가장 간단한 방법은 Threshold(임계값) 값을 계산하는 것이다, Threshold 값보다 큰 픽셀값은 모두 하얀색으로 바꾸고 나머지 픽셀은 검은색으로 바꾼다\n",
    "- OpenCV의 [Simple Thresholding, Adaptive Thresholding, and Otsu’s Binarization] 를 사용한다"
   ]
  },
  {
   "cell_type": "markdown",
   "metadata": {},
   "source": [
    "### Noise Removal or Denoise\n",
    "- Noise is a random variation of color or brightness between pixels of an image. \n",
    "- Noise decrease the readability of text from an image. \n",
    "- There are two major types of noise - salt and pepper noise and Gaussian noise.\n",
    "---\n",
    "- Noise는 이미지의 픽셀들 사이에 있는 밝기나 색깔의 랜덤한 변화이다\n",
    "- Noise는 이미지에 있는 Text의 가독성을 감소한다 \n",
    "- 주요한 두가지 종류의 Noise가 있다, Salt and Pepper Noise 그리고 Gaussian Noise"
   ]
  },
  {
   "cell_type": "code",
   "execution_count": 40,
   "metadata": {},
   "outputs": [],
   "source": [
    "def remove_noise_and_smooth(file_name):\n",
    "    img = cv2.imread(file_name, 0)\n",
    "    filtered = cv2.adaptiveThreshold(img.astype(np.uint8), 255, cv2.ADAPTIVE_THRESH_MEAN_C, cv2.THRESH_BINARY, 9, 41)\n",
    "    kernel = np.ones((1, 1), np.uint8)\n",
    "    opening = cv2.morphologyEx(filtered, cv2.MORPH_OPEN, kernel)\n",
    "    closing = cv2.morphologyEx(opening, cv2.MORPH_CLOSE, kernel)\n",
    "    img = image_smoothening(img)\n",
    "    or_image = cv2.bitwise_or(img, closing)\n",
    "    return or_image"
   ]
  },
  {
   "cell_type": "markdown",
   "metadata": {},
   "source": [
    "### Useful Links \n",
    "- There are plenty of tools and articles for image processing on the internet. \n",
    "- I am putting up some useful links which can help you to implement these process to improve your accuracy.\n",
    "---\n",
    "- 인터넷에는 이미지 처리를 위한 많은 도구와 기사가 있다\n",
    "- 정확도를 향상시키기 위한 처리를 시도하는데 도움이 될 유용한 링크를 마련했다    \n",
    "[Image processing OpenCV](https://docs.opencv.org/3.0-beta/doc/py_tutorials/py_imgproc/py_table_of_contents_imgproc/py_table_of_contents_imgproc.html)    \n",
    "[Skew correction using python](https://www.pyimagesearch.com/2017/02/20/text-skew-correction-opencv-python/)    \n",
    "[Mobile document scanner](https://www.pyimagesearch.com/2014/09/01/build-kick-ass-mobile-document-scanner-just-5-minutes/)    "
   ]
  },
  {
   "cell_type": "code",
   "execution_count": 41,
   "metadata": {},
   "outputs": [],
   "source": [
    "def show_img(image):\n",
    "    cv2.imshow('image', image)\n",
    "    \n",
    "    cv2.waitKey(0)\n",
    "    cv2.destroyAllWindows()\n",
    "    cv2.waitKey(1)"
   ]
  },
  {
   "cell_type": "code",
   "execution_count": 44,
   "metadata": {},
   "outputs": [],
   "source": [
    "def main():\n",
    "    #파일 경로 설정\n",
    "    cur_path = os.getcwd()\n",
    "    img_path = cur_path + '/images/receipt1.jpg'\n",
    "    \n",
    "    #set_image_dpi 함수 호출\n",
    "    tmp_file_path = set_image_dpi(img_path)\n",
    "    image = cv2.imread(tmp_file_path, cv2.IMREAD_COLOR)\n",
    "    print(tmp_file_path)\n",
    "    show_img(image)\n",
    "    \n",
    "    #skew_correction 함수 호출\n",
    "    image = skew_correction(image)\n",
    "    show_img(image)\n",
    "    \n",
    "    "
   ]
  },
  {
   "cell_type": "code",
   "execution_count": 45,
   "metadata": {},
   "outputs": [
    {
     "name": "stdout",
     "output_type": "stream",
     "text": [
      "/var/folders/tg/_j81051n4vb81m9k1pfpf58w0000gn/T/tmp43dgd1ok.png\n"
     ]
    }
   ],
   "source": [
    "main()"
   ]
  },
  {
   "cell_type": "code",
   "execution_count": null,
   "metadata": {},
   "outputs": [],
   "source": []
  },
  {
   "cell_type": "code",
   "execution_count": null,
   "metadata": {},
   "outputs": [],
   "source": []
  }
 ],
 "metadata": {
  "kernelspec": {
   "display_name": "Python 3",
   "language": "python",
   "name": "python3"
  },
  "language_info": {
   "codemirror_mode": {
    "name": "ipython",
    "version": 3
   },
   "file_extension": ".py",
   "mimetype": "text/x-python",
   "name": "python",
   "nbconvert_exporter": "python",
   "pygments_lexer": "ipython3",
   "version": "3.5.6"
  }
 },
 "nbformat": 4,
 "nbformat_minor": 2
}
